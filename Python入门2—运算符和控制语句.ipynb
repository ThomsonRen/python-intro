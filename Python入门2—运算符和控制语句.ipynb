{
 "cells": [
  {
   "cell_type": "markdown",
   "metadata": {
    "id": "287CB1525B7844C7B95311B847355F9E",
    "jupyter": {},
    "mdEditEnable": false,
    "render": true,
    "slideshow": {
     "slide_type": "slide"
    },
    "tags": []
   },
   "source": [
    "# 数学建模基础课:Python入门(2)\n"
   ]
  },
  {
   "cell_type": "markdown",
   "metadata": {
    "id": "AEEF9C04580342AC8A92C3483927DABD",
    "jupyter": {},
    "mdEditEnable": false,
    "slideshow": {
     "slide_type": "slide"
    },
    "tags": []
   },
   "source": [
    "# 运算符\n",
    "\n",
    "运算符是组成Python命令语句的基础。"
   ]
  },
  {
   "cell_type": "markdown",
   "metadata": {
    "id": "9AD3AC9887C643958E9B6A0805BD7F83",
    "jupyter": {},
    "mdEditEnable": false,
    "slideshow": {
     "slide_type": "slide"
    },
    "tags": []
   },
   "source": [
    "\n",
    "## 算术运算符\n",
    "\n",
    "用于基本计算\n",
    "\n",
    "运算符\t| 描述\n",
    ":----: |:----:\n",
    "\\+\t| 加\n",
    "\\-\t| 减\n",
    "\\*\t| 乘\n",
    "/\t| 除\t\n",
    "%\t| 取模（余数）\t\n",
    "\\**\t| 幂\n",
    "//\t| 取整除（向下取整）\n",
    "\n",
    "## 比较运算符\n",
    "\n",
    "使用以下运算符可以比较两个值\n",
    "\n",
    "运算符 | 描述\n",
    ":----: |:----:\n",
    "==  | 等于\n",
    "!=\t| 不等于\n",
    ">\t| 大于\n",
    "<\t| 小于\n",
    ">=\t| 大于等于\n",
    "<=\t| 小于等于\n",
    "\n",
    "\n",
    "## 赋值运算符\n",
    "对变量进行赋值\n",
    "\n",
    "运算符\t| 描述\t| 解释\n",
    ":----: |:----:|:----:\n",
    "=\t| 简单的赋值运算符|\t将 a + b 的运算结果赋值为 c\n",
    "+=|\t加法赋值运算符\t|c += a 等效于 c = c + a\n",
    "-=\t|减法赋值运算符\t|c -= a 等效于 c = c - a\n",
    "\\*=\t|乘法赋值运算符\t|c \\*= a 等效于 c = c * a\n",
    "/=\t|除法赋值运算符|\tc /= a 等效于 c = c / a\n",
    "%=\t|取模赋值运算符|\tc %= a 等效于 c = c % a\n",
    "\\*\\*=\t|幂赋值运算符|\tc \\*\\*= a 等效于 c = c \\*\\* a\n",
    "//=|\t取整除赋值运算符\t|c //= a 等效于 c = c // a\n"
   ]
  },
  {
   "cell_type": "code",
   "execution_count": 1,
   "metadata": {
    "id": "C80980580A1342ADAF5A57C1803C46EE",
    "jupyter": {},
    "scrolled": true,
    "slideshow": {
     "slide_type": "slide"
    },
    "tags": []
   },
   "outputs": [
    {
     "name": "stdout",
     "output_type": "stream",
     "text": [
      "12\n"
     ]
    }
   ],
   "source": [
    "x = 2\n",
    "x *= 6\n",
    "print(x)"
   ]
  },
  {
   "cell_type": "markdown",
   "metadata": {
    "id": "5EE93FBF2AB34128997D7F2BB3D335A3",
    "jupyter": {},
    "mdEditEnable": false,
    "slideshow": {
     "slide_type": "slide"
    },
    "tags": []
   },
   "source": [
    "## 逻辑运算符\n",
    "有时候你需要检查多个逻辑运算的结果，例如你需要检查两个条件是否同时成立，此时，可以使用逻辑运算符。\n",
    "\n",
    "|运算符|\t逻辑表达式|\t描述|\n",
    "|:----: |:----:|:----:|\n",
    "| and\t| x and y | 布尔\"与\" |\n",
    "| or | x or y |\t布尔\"或\" |\n",
    "| not| not x |\t布尔\"非\" |\n"
   ]
  },
  {
   "cell_type": "markdown",
   "metadata": {
    "id": "C18A5A2F126C4CFF983811A6DEB7D000",
    "jupyter": {},
    "mdEditEnable": false,
    "slideshow": {
     "slide_type": "slide"
    },
    "tags": []
   },
   "source": [
    "##  成员运算符和身份运算符\n",
    "\n",
    "运算符 | 描述\n",
    ":----: |:----:\n",
    "in\t|如果在指定的序列中找到值返回 True，否则返回 False\n",
    "not in\t|如果在指定的序列中没有找到值返回 True，否则返回 False\n",
    "is |判断两个标识符是不是引用自一个对象\n",
    "is not\t|判断两个标识符是不是引用自不同对象\n"
   ]
  },
  {
   "cell_type": "code",
   "execution_count": 2,
   "metadata": {
    "id": "6B333DEF2A60456FA6DE430D22950BB2",
    "jupyter": {},
    "scrolled": true,
    "slideshow": {
     "slide_type": "slide"
    },
    "tags": []
   },
   "outputs": [
    {
     "name": "stdout",
     "output_type": "stream",
     "text": [
      "a in c:\t True\n",
      "b in c:\t False\n"
     ]
    }
   ],
   "source": [
    "a = 1\n",
    "b = 10\n",
    "c = [1, 2, 3, 4, 5 ]\n",
    "\n",
    "print('a in c:\\t',a in c)\n",
    "print('b in c:\\t',b in c)"
   ]
  },
  {
   "cell_type": "code",
   "execution_count": null,
   "metadata": {
    "scrolled": true
   },
   "outputs": [],
   "source": [
    "x = 1.0 / 3.0\n",
    "y = 1.0 / 3.0\n",
    "z = x\n",
    "print('x is y:\\t',x is y)\n",
    "print('x is z:\\t',x is z)\n",
    "print(\"ID: x = \",id(x), ',y = ', id(y), ',z = ', id(z))  #id()函数返回对象的唯一标识符，标识符是一个整数,表示对象的内存地址。\n",
    "\n",
    "x = x + 0\n",
    "print('x is z:\\t',x is z)\n",
    "print(\"ID: x = \",id(x),',y = ', id(y),',z = ', id(z))"
   ]
  },
  {
   "cell_type": "markdown",
   "metadata": {
    "id": "3FC819774DA2463B87DFB03DF591314A",
    "jupyter": {},
    "mdEditEnable": false,
    "slideshow": {
     "slide_type": "slide"
    },
    "tags": []
   },
   "source": [
    "##  运算符的优先级\n",
    "\n",
    "运算符 | 描述\n",
    ":----: |:----:\n",
    "**\t|指数 (最高优先级)\n",
    "* / % //\t|乘，除，取模和取整除\n",
    "+ -\t|加法减法\n",
    "<= ,< ,> ,>=\t|比较运算符\n",
    "== ,!=\t|等于运算符\n",
    "is ,is not\t|身份运算符\n",
    "in ,not in\t|成员运算符\n",
    "not ,and ,or\t|逻辑运算符\n"
   ]
  },
  {
   "cell_type": "markdown",
   "metadata": {
    "id": "942EF2DEE7C344C69073AD95049690F4",
    "jupyter": {},
    "mdEditEnable": false,
    "slideshow": {
     "slide_type": "slide"
    },
    "tags": []
   },
   "source": [
    "***Tip:遇事不决加括号。***"
   ]
  },
  {
   "cell_type": "markdown",
   "metadata": {
    "id": "77E2C11D9382482F8F5DDC050247CCEB",
    "jupyter": {},
    "mdEditEnable": false,
    "slideshow": {
     "slide_type": "slide"
    },
    "tags": []
   },
   "source": [
    "# 控制语句"
   ]
  },
  {
   "cell_type": "markdown",
   "metadata": {},
   "source": [
    "**python内置函数用法查询**，\n",
    "参考[这里](https://www.runoob.com/python3/python3-built-in-functions.html)。"
   ]
  },
  {
   "cell_type": "markdown",
   "metadata": {
    "id": "75BA9D86DB7741A8AE05B0531906E462",
    "jupyter": {},
    "mdEditEnable": false,
    "slideshow": {
     "slide_type": "slide"
    },
    "tags": []
   },
   "source": [
    "控制语句是程序员控制哪一段代码可以执行的方法。其语法和正常英文相似，和做逻辑判断一样。\n",
    "\n",
    "条件和循环是改变代码执行流的语句。原本期望的执行流是每一行的代码都会按照从上到下的顺序执行，但是控制语句可以改变语句的执行顺序、跳过一些语句或者重复执行某些语句。\n",
    "\n",
    "这里我们介绍两种控制语句，分别是\n",
    "\n",
    "- 条件语句\n",
    "- 循环语句\n"
   ]
  },
  {
   "cell_type": "markdown",
   "metadata": {
    "id": "64C3E538C8864D6FBB9CFCEF2B7A2CC5",
    "jupyter": {},
    "mdEditEnable": false,
    "slideshow": {
     "slide_type": "slide"
    },
    "tags": []
   },
   "source": [
    "## 条件语句"
   ]
  },
  {
   "cell_type": "markdown",
   "metadata": {
    "id": "D1D95B39846F44EC853144F7694A3A71",
    "jupyter": {},
    "mdEditEnable": false,
    "slideshow": {
     "slide_type": "slide"
    },
    "tags": []
   },
   "source": [
    "我们经常需要去检查一个条件语句的结果，然后根据是对是错来决定接下来执行不同的代码。\n",
    "### If 语句\n",
    "if语句包含条件检查和对应的待执行的代码段。"
   ]
  },
  {
   "cell_type": "markdown",
   "metadata": {
    "id": "C3A8E9D25D0C43B7840EE71A6CD2F9F7",
    "jupyter": {},
    "mdEditEnable": false,
    "slideshow": {
     "slide_type": "slide"
    },
    "tags": []
   },
   "source": [
    "**代码格式：**\n",
    "\n",
    "\n",
    "`if 判断条件1:\n",
    "    执行语句1……\n",
    "elif 判断条件2:\n",
    "    执行语句2……\n",
    "elif 判断条件3:\n",
    "    执行语句3……\n",
    "......\n",
    "else:\n",
    "    执行语句4……`"
   ]
  },
  {
   "cell_type": "code",
   "execution_count": 7,
   "metadata": {
    "id": "F9F3145CF1384EA1993BBD91B989A0B9",
    "jupyter": {},
    "scrolled": true,
    "slideshow": {
     "slide_type": "slide"
    },
    "tags": []
   },
   "outputs": [
    {
     "name": "stdout",
     "output_type": "stream",
     "text": [
      "Album year is less than 1980\n"
     ]
    }
   ],
   "source": [
    "album_year = 1975\n",
    "if album_year > 1980:\n",
    "    print (\"Album year is greater than 1980\")\n",
    "else:\n",
    "    print(\"Album year is less than 1980\")"
   ]
  },
  {
   "cell_type": "markdown",
   "metadata": {
    "id": "74BD9E5D7E164F71850BE79D3B56E9A6",
    "jupyter": {},
    "mdEditEnable": false,
    "slideshow": {
     "slide_type": "slide"
    },
    "tags": []
   },
   "source": [
    "Tip:所有表达式返回的值都是布尔格式，该格式的取值只可能是`True`或者`False`。\n",
    "1. 每个条件后面要使用冒号 :，表示接下来是满足条件后要执行的语句块。\n",
    "2. 使用缩进来划分语句块，相同缩进数的语句在一起组成一个语句块。\n",
    "4. python中没有switch-case语句。\n",
    "3. if语句一般要和else结合使用，多个条件时使用elif."
   ]
  },
  {
   "cell_type": "code",
   "execution_count": 68,
   "metadata": {
    "id": "F74C67BEDA6740AC873DE101A19AE73F",
    "jupyter": {},
    "mdEditEnable": false,
    "scrolled": true,
    "slideshow": {
     "slide_type": "slide"
    },
    "tags": []
   },
   "outputs": [],
   "source": [
    "year = 1643\n",
    "if year > 1727:\n",
    "    print (\" is greater than 1727\")"
   ]
  },
  {
   "cell_type": "markdown",
   "metadata": {},
   "source": [
    "**pass语句**\n",
    " \n",
    "pass 语句一般用来占位，使得格式正确，没有实际意义。"
   ]
  },
  {
   "cell_type": "code",
   "execution_count": 62,
   "metadata": {},
   "outputs": [],
   "source": [
    "year = 1643\n",
    "if year > 1727:\n",
    "    print (\"Album year is greater than 1643\")\n",
    "else:\n",
    "    pass"
   ]
  },
  {
   "cell_type": "code",
   "execution_count": 63,
   "metadata": {
    "id": "68A2A8E0380A4B4B8459D06049611749",
    "jupyter": {},
    "scrolled": true,
    "slideshow": {
     "slide_type": "slide"
    },
    "tags": []
   },
   "outputs": [
    {
     "name": "stdout",
     "output_type": "stream",
     "text": [
      "a is greater than 78\n"
     ]
    }
   ],
   "source": [
    "a = 80\n",
    "if a > 80:\n",
    "    print(\"a is greater than 80\")\n",
    "elif a > 78:\n",
    "    print(\"a is greater than 78\")\n",
    "elif a > 79:\n",
    "    print(\"a is greater than 79\")\n",
    "else:\n",
    "    print (\"a is equal to or less than 78\")"
   ]
  },
  {
   "cell_type": "markdown",
   "metadata": {
    "id": "15E8914370404FE183552E948F6AF10F",
    "jupyter": {},
    "mdEditEnable": false,
    "slideshow": {
     "slide_type": "slide"
    },
    "tags": []
   },
   "source": [
    "**if嵌套语句**\n",
    "\n",
    "此外，我们还可以if语句套if语句"
   ]
  },
  {
   "cell_type": "code",
   "execution_count": 70,
   "metadata": {
    "id": "1DC6DFE6E13A462DBAB9BF982C591524",
    "jupyter": {},
    "scrolled": true,
    "slideshow": {
     "slide_type": "slide"
    },
    "tags": []
   },
   "outputs": [
    {
     "name": "stdout",
     "output_type": "stream",
     "text": [
      "请输入: adiabatic\n"
     ]
    },
    {
     "data": {
      "text/plain": [
       "str"
      ]
     },
     "execution_count": 70,
     "metadata": {},
     "output_type": "execute_result"
    }
   ],
   "source": [
    "a =  input('请输入: ')  #input()函数接受一个标准输入数据，返回为 string 类型。\n",
    "type(a)"
   ]
  },
  {
   "cell_type": "code",
   "execution_count": null,
   "metadata": {
    "id": "AB4144839B244BEA807F228AA4B981D8",
    "jupyter": {},
    "scrolled": true,
    "slideshow": {
     "slide_type": "slide"
    },
    "tags": []
   },
   "outputs": [],
   "source": [
    "a = float(input()) \n",
    "if a > 0:\n",
    "    if a >= 5:\n",
    "        print('a is greater than 5')\n",
    "    else:\n",
    "        print('a is positive and less than 5')\n",
    "elif a==0:\n",
    "    print('a is 0')\n",
    "else:\n",
    "    if a<=-5:\n",
    "        print('a is less than or equal -5')\n",
    "    else:\n",
    "        print('a is negative and greater than -5')"
   ]
  },
  {
   "cell_type": "markdown",
   "metadata": {},
   "source": [
    "**轮到你了**\n",
    "\n",
    "已知一个分段函数：\n",
    "\n",
    "`若x > 2,y = x+5`\n",
    "\n",
    "`若-2 <= x <= 2,y=2x-1`\n",
    "\n",
    "`若x < -2,y = -x`\n",
    "\n",
    "输入一个值赋给x，根据输入值,输出y的值。"
   ]
  },
  {
   "cell_type": "code",
   "execution_count": null,
   "metadata": {},
   "outputs": [],
   "source": []
  },
  {
   "cell_type": "markdown",
   "metadata": {
    "id": "9647203D239249A7B53630E520F45E29",
    "jupyter": {},
    "mdEditEnable": false,
    "slideshow": {
     "slide_type": "slide"
    },
    "tags": []
   },
   "source": [
    "实际上，今后在编程中，经常会使用大规模的if嵌套结构。"
   ]
  },
  {
   "cell_type": "markdown",
   "metadata": {
    "id": "883FA99DBBC949A6B331866A83DE0D41",
    "jupyter": {},
    "mdEditEnable": false,
    "slideshow": {
     "slide_type": "slide"
    },
    "tags": []
   },
   "source": [
    "## 循环语句"
   ]
  },
  {
   "cell_type": "markdown",
   "metadata": {
    "id": "7223A0DCC22E464D8CDBE9CAB0FBB23B",
    "jupyter": {},
    "mdEditEnable": false,
    "slideshow": {
     "slide_type": "slide"
    },
    "tags": []
   },
   "source": [
    "有时候，你可能希望让一些代码块重复地执行几轮，甚至有可能不知道一共要执行几次，但是有一个循环如何终止的概念，例如每次一行地处理数据集中的所有行。这种让代码重复执行的方式就是循环。\n",
    "\n",
    "两个主要的循环结构：`for`和`while`\n",
    "\n",
    "### `for` 循环\n",
    "for循环结构允许你为一个数据结构中的每一个元素执行一次代码块。`for`循环是十分实用的语句，它可以对大量的数据进行简单的处理。\n"
   ]
  },
  {
   "cell_type": "markdown",
   "metadata": {},
   "source": [
    "**代码格式**\n",
    "\n",
    "for `variable` in `sequence`:\n",
    "\n",
    "    statements\n",
    "    \n",
    "else:\n",
    "\n",
    "    statements"
   ]
  },
  {
   "cell_type": "code",
   "execution_count": 33,
   "metadata": {
    "id": "0596583A50F2419C83C9D245021EC785",
    "jupyter": {},
    "scrolled": true,
    "slideshow": {
     "slide_type": "slide"
    },
    "tags": []
   },
   "outputs": [
    {
     "name": "stdout",
     "output_type": "stream",
     "text": [
      "250\n",
      "500\n",
      "750\n",
      "1000\n",
      "1250\n"
     ]
    }
   ],
   "source": [
    "total_albums = [250,500,750,1000,1250]\n",
    "for album in total_albums:\n",
    "    print(album)  "
   ]
  },
  {
   "cell_type": "code",
   "execution_count": 35,
   "metadata": {
    "id": "27AA3358DD614B6788696F94D35A4B6D",
    "jupyter": {},
    "scrolled": true,
    "slideshow": {
     "slide_type": "slide"
    },
    "tags": []
   },
   "outputs": [
    {
     "name": "stdout",
     "output_type": "stream",
     "text": [
      "250\n",
      "500\n",
      "750\n",
      "1000\n",
      "750\n"
     ]
    }
   ],
   "source": [
    "# tuple也类似\n",
    "total_albums = (250,500,750,1000,750)\n",
    "for albums in total_albums:\n",
    "    print(albums) "
   ]
  },
  {
   "cell_type": "code",
   "execution_count": 34,
   "metadata": {
    "id": "0039EAEB213747428058A9BFBE54F639",
    "jupyter": {},
    "scrolled": true,
    "slideshow": {
     "slide_type": "slide"
    },
    "tags": []
   },
   "outputs": [
    {
     "name": "stdout",
     "output_type": "stream",
     "text": [
      "80\n",
      "73\n",
      "82\n",
      "92\n"
     ]
    }
   ],
   "source": [
    "# set也类似\n",
    "set1 = {82,80,73,92,73}\n",
    "for date in set1:\n",
    "    print(date)"
   ]
  },
  {
   "cell_type": "markdown",
   "metadata": {
    "id": "CF13863452FD4B9F81C2EF38435A8393",
    "jupyter": {},
    "mdEditEnable": false,
    "slideshow": {
     "slide_type": "slide"
    },
    "tags": []
   },
   "source": [
    "上面的例子是list、tuple或者set的遍历，有时候我们需要遍历一些等差数列，可以这样快速书写："
   ]
  },
  {
   "cell_type": "code",
   "execution_count": 38,
   "metadata": {
    "id": "97BB8E456F574192978B78867A43F467",
    "jupyter": {},
    "scrolled": true,
    "slideshow": {
     "slide_type": "slide"
    },
    "tags": []
   },
   "outputs": [
    {
     "name": "stdout",
     "output_type": "stream",
     "text": [
      "0\n",
      "1\n",
      "2\n",
      "3\n",
      "4\n"
     ]
    }
   ],
   "source": [
    "for i in range(5): #  range()函数返回的是列表，表示0-4。\n",
    "    print(i)"
   ]
  },
  {
   "cell_type": "code",
   "execution_count": 39,
   "metadata": {
    "id": "AF78C874707440F29B4D99120F143B3A",
    "jupyter": {},
    "scrolled": true,
    "slideshow": {
     "slide_type": "slide"
    },
    "tags": []
   },
   "outputs": [
    {
     "name": "stdout",
     "output_type": "stream",
     "text": [
      "3\n",
      "5\n",
      "7\n",
      "9\n"
     ]
    }
   ],
   "source": [
    "for i in range(3,10,2): # 从3 到 9 ，2是步长\n",
    "    print(i)"
   ]
  },
  {
   "cell_type": "code",
   "execution_count": 40,
   "metadata": {
    "id": "5B264C3FC11849D88996885D02A10A62",
    "jupyter": {},
    "scrolled": true,
    "slideshow": {
     "slide_type": "slide"
    },
    "tags": []
   },
   "outputs": [
    {
     "name": "stdout",
     "output_type": "stream",
     "text": [
      "a\n",
      "bc\n",
      "def\n"
     ]
    }
   ],
   "source": [
    "for i in ['a','bc','def']:\n",
    "    print(i)"
   ]
  },
  {
   "cell_type": "markdown",
   "metadata": {
    "id": "69692BE868DB44468FAEDB495EE21748",
    "jupyter": {},
    "mdEditEnable": false,
    "scrolled": false,
    "slideshow": {
     "slide_type": "slide"
    },
    "tags": []
   },
   "source": [
    "结合for循环我们可以求解如下数学问题\n",
    "$$\n",
    "\\sum_{i=1}^{100} \\sum_{j=1}^{100} ij\n",
    "$$"
   ]
  },
  {
   "cell_type": "code",
   "execution_count": 47,
   "metadata": {
    "id": "C4D1103D63E244C3ACA741CD40B17323",
    "jupyter": {},
    "scrolled": true,
    "slideshow": {
     "slide_type": "slide"
    },
    "tags": []
   },
   "outputs": [
    {
     "name": "stdout",
     "output_type": "stream",
     "text": [
      "25502500\n"
     ]
    }
   ],
   "source": [
    "S = 0   # 初始化\n",
    "for i in range(1,101):  # 对i循环\n",
    "    for j in range(1,101):  # 对j循环\n",
    "        \n",
    "            S = S + i * j    # S += i*j  等价形式\n",
    "            \n",
    "print(S)    # 输出结果"
   ]
  },
  {
   "cell_type": "markdown",
   "metadata": {
    "id": "86012F9E22A1433E855E44BD66E7A594",
    "jupyter": {},
    "mdEditEnable": false,
    "slideshow": {
     "slide_type": "slide"
    },
    "tags": []
   },
   "source": [
    "对于dict类型，可以使用items属性进行遍历："
   ]
  },
  {
   "cell_type": "code",
   "execution_count": 48,
   "metadata": {
    "id": "0E36EA543BCA44A686A7D8CF01EDDCCB",
    "jupyter": {},
    "scrolled": true,
    "slideshow": {
     "slide_type": "slide"
    },
    "tags": []
   },
   "outputs": [
    {
     "name": "stdout",
     "output_type": "stream",
     "text": [
      "{'a': 1, 'b': 2}\n",
      "a : 1\n",
      "b : 2\n"
     ]
    }
   ],
   "source": [
    "dict = {'a' : 1 , 'b' : 2 }\n",
    "print(dict)\n",
    "for k,v in dict.items():\n",
    "    print(k, ':', v)  "
   ]
  },
  {
   "cell_type": "markdown",
   "metadata": {
    "id": "0CF75CB2DDE54AA191F588466A52D051",
    "jupyter": {},
    "mdEditEnable": false,
    "slideshow": {
     "slide_type": "slide"
    },
    "tags": []
   },
   "source": [
    "### `while` 循环\n",
    "当我们要重复执行一个操作直到某个数值达到了阈值，或者循环终止的条件是一个表达式的结果，就需要使用while循环了，while循环内的代码段会不断重复执行直到表达式条件不满足（返回值为False）退出循环。"
   ]
  },
  {
   "cell_type": "markdown",
   "metadata": {},
   "source": [
    "**代码格式**\n",
    "\n",
    "while 判断条件(condition)：\n",
    "\n",
    "    执行语句(statements)……"
   ]
  },
  {
   "cell_type": "markdown",
   "metadata": {},
   "source": [
    "**tip**  同样需要注意冒号和缩进。另外，在 Python 中没有 do..while 循环。"
   ]
  },
  {
   "cell_type": "code",
   "execution_count": 50,
   "metadata": {
    "id": "DC31A845F7824341BBDC60205ECA1307",
    "jupyter": {},
    "scrolled": true,
    "slideshow": {
     "slide_type": "slide"
    },
    "tags": []
   },
   "outputs": [
    {
     "name": "stdout",
     "output_type": "stream",
     "text": [
      "250\n",
      "500\n",
      "750\n",
      "1000\n"
     ]
    }
   ],
   "source": [
    "a = 250  # 初始化\n",
    "total = 0  \n",
    "while total < 1000:  # 当total小于1000时，执行以下计算\n",
    "    total += a   # 加上 250\n",
    "    print (total)   # 打印"
   ]
  },
  {
   "cell_type": "markdown",
   "metadata": {
    "id": "6045CA7C391C441B90887BE751B04F1F",
    "jupyter": {},
    "mdEditEnable": false,
    "slideshow": {
     "slide_type": "slide"
    },
    "tags": []
   },
   "source": [
    "### `continue` 语句\n",
    "可以用continue 语句跳出本次循环"
   ]
  },
  {
   "cell_type": "code",
   "execution_count": 67,
   "metadata": {
    "id": "857588F8EBEB48BF8ACC65A9B43399D9",
    "jupyter": {},
    "scrolled": true,
    "slideshow": {
     "slide_type": "slide"
    },
    "tags": []
   },
   "outputs": [
    {
     "name": "stdout",
     "output_type": "stream",
     "text": [
      "250\n",
      "500\n",
      "750\n",
      "1000\n",
      "9000\n",
      "9250\n",
      "9500\n",
      "9750\n",
      "10000\n"
     ]
    }
   ],
   "source": [
    "a = 250\n",
    "total = 0\n",
    "while total < 10000:  # 当total小于10000时，执行以下计算\n",
    "    total += a\n",
    "    if total > 1000 and total < 9000: \n",
    "        continue    # 当total在1000到9000之间时，跳出本次循环\n",
    "    print (total)"
   ]
  },
  {
   "cell_type": "markdown",
   "metadata": {
    "id": "2DFB3629F79640F8B191027E41849269",
    "jupyter": {},
    "mdEditEnable": false,
    "slideshow": {
     "slide_type": "slide"
    },
    "tags": []
   },
   "source": [
    "### `break` 语句\n",
    "可以用break跳出整个循环"
   ]
  },
  {
   "cell_type": "code",
   "execution_count": 53,
   "metadata": {
    "id": "2A011BA465AD433EA1AAA0854A17F776",
    "jupyter": {},
    "scrolled": true,
    "slideshow": {
     "slide_type": "slide"
    },
    "tags": []
   },
   "outputs": [
    {
     "name": "stdout",
     "output_type": "stream",
     "text": [
      "250\n",
      "500\n",
      "750\n",
      "1000\n",
      "1250\n",
      "1500\n",
      "1750\n"
     ]
    }
   ],
   "source": [
    "a = 250\n",
    "total = 0\n",
    "while True:\n",
    "    total += a\n",
    "    print(total)\n",
    "    if total >= 1700: \n",
    "        break # 当total 大于 1700 时，跳出整个循环"
   ]
  },
  {
   "cell_type": "code",
   "execution_count": null,
   "metadata": {},
   "outputs": [],
   "source": [
    "a = 250\n",
    "total = 0\n",
    "while True:\n",
    "    total += a\n",
    "    print(total)"
   ]
  },
  {
   "cell_type": "markdown",
   "metadata": {
    "id": "BDEAB66C8CCA4A769435E1ECF6F5152D",
    "jupyter": {},
    "mdEditEnable": false,
    "slideshow": {
     "slide_type": "slide"
    },
    "tags": []
   },
   "source": [
    "## Python读取键盘输入\n",
    "\n",
    "Python提供了 `input()` 内置函数从标准输入读入一行文本，默认的标准输入是键盘。\n"
   ]
  },
  {
   "cell_type": "code",
   "execution_count": null,
   "metadata": {
    "id": "443BC90AECEE4D2E8364610B35009CBC",
    "jupyter": {},
    "scrolled": true,
    "slideshow": {
     "slide_type": "slide"
    },
    "tags": []
   },
   "outputs": [],
   "source": [
    "s = input(\"请输入\")\n",
    "print (\"你输入的内容是: \", s)"
   ]
  },
  {
   "cell_type": "markdown",
   "metadata": {
    "id": "5E07A8C4CF6E4137A02175278D6A6391",
    "jupyter": {},
    "mdEditEnable": false,
    "slideshow": {
     "slide_type": "slide"
    },
    "tags": []
   },
   "source": [
    "# 练习作业：\n",
    "\n",
    "1. 输入年份，判断是否为闰年？如果是，输出`闰年`，否则输出`非闰年`。(年份是4的倍数但不是100的倍数)\n",
    "\n",
    "1. 求1000以内所有的水仙花数（每个位数上的数字的3次幂之和等于它本身,比如 $153 = 1^3 + 5^3 + 3^3$ )\n",
    "\n",
    "1. 求100以内的质数(只能被自己和1整除的数是质数)\n",
    "\n",
    "1. 判断输入的边长能否构成三角形，如果能则计算出三角形的周长和面积。（海伦公式）\n",
    "\n",
    "1. 输入一个百分制成绩，将其转为等级制成绩\n",
    "\n",
    "1. 求 $1 - 2 + 3 -4 + 5 + ... 99$\n",
    "\n",
    "1. 已知列表`namelist=['stu1','stu2','stu3','stu4','stu5','stu6','stu7']`，删除列表`removelist=['stu3', 'stu7', 'stu9']`；请将属于`removelist`列表中的每个元素从`namelist`中移除(属于`removelist`，但不属于`namelist`的忽略即可)；\n",
    "    \n",
    "第5题附录\n",
    "\n",
    "分数 | 等级\n",
    ":----: |:----:\n",
    "90分以上  | A\n",
    "80分~89分\t| B\n",
    "70分~79分\t| C\n",
    "60分~69分\t| D\n",
    "60分以下  | E\n"
   ]
  },
  {
   "cell_type": "code",
   "execution_count": null,
   "metadata": {},
   "outputs": [],
   "source": []
  }
 ],
 "metadata": {
  "kernelspec": {
   "display_name": "Python 3",
   "language": "python",
   "name": "python3"
  },
  "language_info": {
   "codemirror_mode": {
    "name": "ipython",
    "version": 3
   },
   "file_extension": ".py",
   "mimetype": "text/x-python",
   "name": "python",
   "nbconvert_exporter": "python",
   "pygments_lexer": "ipython3",
   "version": "3.8.3"
  },
  "toc": {
   "base_numbering": 1,
   "nav_menu": {},
   "number_sections": true,
   "sideBar": true,
   "skip_h1_title": false,
   "title_cell": "Table of Contents",
   "title_sidebar": "Contents",
   "toc_cell": false,
   "toc_position": {},
   "toc_section_display": true,
   "toc_window_display": false
  }
 },
 "nbformat": 4,
 "nbformat_minor": 1
}
