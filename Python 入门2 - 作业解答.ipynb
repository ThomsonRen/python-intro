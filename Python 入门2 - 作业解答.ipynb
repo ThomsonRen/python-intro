{
 "cells": [
  {
   "cell_type": "markdown",
   "metadata": {
    "id": "2ADC6C35F34E441489C9608D4A1AA4D3",
    "jupyter": {},
    "mdEditEnable": false,
    "slideshow": {
     "slide_type": "slide"
    },
    "tags": []
   },
   "source": [
    "# 运算符和控制语句练习作业：\n",
    "\n",
    "1. 输入年份，判断是否为闰年？如果是，输出`闰年`，否则输出`非闰年`。(年份是4的倍数但不是100的倍数)\n",
    "\n",
    "1. 求1000以内所有的水仙花数（每个位数上的数字的3次幂之和等于它本身,比如 $153 = 1^3 + 5^3 + 3^3$\n",
    "\n",
    "1. 求100以内的质数(只能被自己和1整除的数是质数)\n",
    "\n",
    "1. 判断输入的边长能否构成三角形，如果能则计算出三角形的周长和面积。（海伦公式）\n",
    "\n",
    "1. 输入一个百分制成绩，将其转为等级制成绩\n",
    "\n",
    "1. 求 $1 - 2 + 3 -4 + 5 + ... 99$\n",
    "\n",
    "1. 已知列表`namelist=['stu1','stu2','stu3','stu4','stu5','stu6','stu7']`，删除列表`removelist=['stu3', 'stu7', 'stu9']`；请将属于`removelist`列表中的每个元素从`namelist`中移除(属于`removelist`，但不属于`namelist`的忽略即可)；\n",
    "    \n",
    "\n",
    "|分数|等级|\n",
    "| -------- | -------- | -------- |\n",
    "|90分以上 |   A|\n",
    "|80分~89分 |  B|\n",
    "|70分~79分  |  C|\n",
    "|60分~69分 |  D|\n",
    "|60分以下  |   E|\n",
    "\n"
   ]
  },
  {
   "cell_type": "markdown",
   "metadata": {
    "id": "A932D8411C20481F820FE4BCCA594CED",
    "jupyter": {},
    "mdEditEnable": false,
    "slideshow": {
     "slide_type": "slide"
    },
    "tags": []
   },
   "source": [
    "# 作业解答"
   ]
  },
  {
   "cell_type": "code",
   "execution_count": 1,
   "metadata": {
    "id": "3093B5A0B8EA4EED874F01BC4886B6D4",
    "jupyter": {},
    "scrolled": false,
    "slideshow": {
     "slide_type": "slide"
    },
    "tags": []
   },
   "outputs": [
    {
     "name": "stdout",
     "output_type": "stream",
     "text": [
      "请输入2000\n",
      "世纪闰年\n"
     ]
    }
   ],
   "source": [
    "# 1\n",
    "year = int(input(\"请输入\"))\n",
    "if year % 4 == 0:\n",
    "    if year % 100 == 0:\n",
    "        print(\"世纪闰年\")\n",
    "    else:\n",
    "        print(\"闰年\")\n",
    "else:\n",
    "    print (\"非闰年\")"
   ]
  },
  {
   "cell_type": "code",
   "execution_count": 2,
   "metadata": {
    "id": "C293530D9F1C47748D6E1C949900E055",
    "jupyter": {},
    "scrolled": false,
    "slideshow": {
     "slide_type": "slide"
    },
    "tags": []
   },
   "outputs": [
    {
     "name": "stdout",
     "output_type": "stream",
     "text": [
      "0\n",
      "1\n",
      "153\n",
      "370\n",
      "371\n",
      "407\n"
     ]
    }
   ],
   "source": [
    "#2\n",
    "x = 0   # 从零开始遍历寻找\n",
    "while x < 1000:  # while 循环，一直到1000\n",
    "\n",
    "  # 本题目的重点是找到一个数字的个位数、十位数和百位数，请大家自行理解这个条件\n",
    "  if (x//100)**3+(x%100//10)**3+(x%10)**3==x:  \n",
    "      print(x)\n",
    "  else:\n",
    "      pass\n",
    "  x += 1"
   ]
  },
  {
   "cell_type": "code",
   "execution_count": 3,
   "metadata": {
    "id": "9F6BE10F190E40D69F32C0C1F9076C6C",
    "jupyter": {},
    "scrolled": false,
    "slideshow": {
     "slide_type": "slide"
    },
    "tags": []
   },
   "outputs": [
    {
     "name": "stdout",
     "output_type": "stream",
     "text": [
      "2\n",
      "3\n",
      "5\n",
      "7\n",
      "11\n",
      "13\n",
      "17\n",
      "19\n",
      "23\n",
      "29\n",
      "31\n",
      "37\n",
      "41\n",
      "43\n",
      "47\n",
      "53\n",
      "59\n",
      "61\n",
      "67\n",
      "71\n",
      "73\n",
      "79\n",
      "83\n",
      "89\n",
      "97\n"
     ]
    }
   ],
   "source": [
    "#3\n",
    "for x in range(2,101): # 从2开始，到100结束（因为101不包括）\n",
    "    flag = True   # 学会使用flag\n",
    "    for i in range(2,x):\n",
    "        if x%i ==0:\n",
    "            flag = False\n",
    "    if flag == True:\n",
    "        print(x)"
   ]
  },
  {
   "cell_type": "code",
   "execution_count": 4,
   "metadata": {
    "id": "093A6AD5535D4FF085106ED99677E8F3",
    "jupyter": {},
    "scrolled": false,
    "slideshow": {
     "slide_type": "slide"
    },
    "tags": []
   },
   "outputs": [
    {
     "name": "stdout",
     "output_type": "stream",
     "text": [
      "a\n"
     ]
    },
    {
     "ename": "ValueError",
     "evalue": "invalid literal for int() with base 10: ''",
     "output_type": "error",
     "traceback": [
      "\u001b[0;31m---------------------------------------------------------------------------\u001b[0m",
      "\u001b[0;31mValueError\u001b[0m                                Traceback (most recent call last)",
      "\u001b[0;32m<ipython-input-4-f41c312946b1>\u001b[0m in \u001b[0;36m<module>\u001b[0;34m\u001b[0m\n\u001b[1;32m      1\u001b[0m \u001b[0;31m#4\u001b[0m\u001b[0;34m\u001b[0m\u001b[0;34m\u001b[0m\u001b[0;34m\u001b[0m\u001b[0m\n\u001b[0;32m----> 2\u001b[0;31m \u001b[0ma\u001b[0m \u001b[0;34m=\u001b[0m \u001b[0mint\u001b[0m\u001b[0;34m(\u001b[0m\u001b[0minput\u001b[0m\u001b[0;34m(\u001b[0m\u001b[0;34m\"a\"\u001b[0m\u001b[0;34m)\u001b[0m\u001b[0;34m)\u001b[0m\u001b[0;34m\u001b[0m\u001b[0;34m\u001b[0m\u001b[0m\n\u001b[0m\u001b[1;32m      3\u001b[0m \u001b[0mb\u001b[0m \u001b[0;34m=\u001b[0m \u001b[0mint\u001b[0m\u001b[0;34m(\u001b[0m\u001b[0minput\u001b[0m\u001b[0;34m(\u001b[0m\u001b[0;34m\"b\"\u001b[0m\u001b[0;34m)\u001b[0m\u001b[0;34m)\u001b[0m\u001b[0;34m\u001b[0m\u001b[0;34m\u001b[0m\u001b[0m\n\u001b[1;32m      4\u001b[0m \u001b[0mc\u001b[0m \u001b[0;34m=\u001b[0m \u001b[0mint\u001b[0m\u001b[0;34m(\u001b[0m\u001b[0minput\u001b[0m\u001b[0;34m(\u001b[0m\u001b[0;34m\"c\"\u001b[0m\u001b[0;34m)\u001b[0m\u001b[0;34m)\u001b[0m\u001b[0;34m\u001b[0m\u001b[0;34m\u001b[0m\u001b[0m\n\u001b[1;32m      5\u001b[0m \u001b[0ml\u001b[0m \u001b[0;34m=\u001b[0m \u001b[0ma\u001b[0m\u001b[0;34m+\u001b[0m\u001b[0mb\u001b[0m\u001b[0;34m+\u001b[0m\u001b[0mc\u001b[0m\u001b[0;34m\u001b[0m\u001b[0;34m\u001b[0m\u001b[0m\n",
      "\u001b[0;31mValueError\u001b[0m: invalid literal for int() with base 10: ''"
     ]
    }
   ],
   "source": [
    "#4\n",
    "a = int(input(\"a\"))\n",
    "b = int(input(\"b\"))\n",
    "c = int(input(\"c\"))\n",
    "l = a+b+c\n",
    "p = (a+b+c)/2\n",
    "s = (p*(p-a)*(p-b)*(p-c))**0.5  # 海伦公式\n",
    "if a+b>c and a+c>b and b+c>a:\n",
    "    print('可以构成三角形')\n",
    "    print('三角形面积为:',s)\n",
    "    print('三角形周长为:',l)\n",
    "else:\n",
    "    print('无法构成三角形')"
   ]
  },
  {
   "cell_type": "code",
   "execution_count": 5,
   "metadata": {
    "id": "EFA21218AEE94AA99EA6BC64AAA5CCA4",
    "jupyter": {},
    "mdEditEnable": false,
    "scrolled": false,
    "slideshow": {
     "slide_type": "slide"
    },
    "tags": []
   },
   "outputs": [
    {
     "name": "stdout",
     "output_type": "stream",
     "text": [
      "请输入分数\n"
     ]
    },
    {
     "ename": "ValueError",
     "evalue": "invalid literal for int() with base 10: ''",
     "output_type": "error",
     "traceback": [
      "\u001b[0;31m---------------------------------------------------------------------------\u001b[0m",
      "\u001b[0;31mValueError\u001b[0m                                Traceback (most recent call last)",
      "\u001b[0;32m<ipython-input-5-f89114b46ec6>\u001b[0m in \u001b[0;36m<module>\u001b[0;34m\u001b[0m\n\u001b[1;32m      1\u001b[0m \u001b[0;31m#5\u001b[0m\u001b[0;34m\u001b[0m\u001b[0;34m\u001b[0m\u001b[0;34m\u001b[0m\u001b[0m\n\u001b[0;32m----> 2\u001b[0;31m \u001b[0mnumber\u001b[0m \u001b[0;34m=\u001b[0m \u001b[0mint\u001b[0m\u001b[0;34m(\u001b[0m\u001b[0minput\u001b[0m\u001b[0;34m(\u001b[0m\u001b[0;34m\"请输入分数\"\u001b[0m\u001b[0;34m)\u001b[0m\u001b[0;34m)\u001b[0m\u001b[0;34m\u001b[0m\u001b[0;34m\u001b[0m\u001b[0m\n\u001b[0m\u001b[1;32m      3\u001b[0m \u001b[0;34m\u001b[0m\u001b[0m\n\u001b[1;32m      4\u001b[0m \u001b[0;31m# 主要考察多重判断的写法，大家自行理解\u001b[0m\u001b[0;34m\u001b[0m\u001b[0;34m\u001b[0m\u001b[0;34m\u001b[0m\u001b[0m\n\u001b[1;32m      5\u001b[0m \u001b[0;32mif\u001b[0m \u001b[0mnumber\u001b[0m \u001b[0;34m>=\u001b[0m \u001b[0;36m60\u001b[0m\u001b[0;34m:\u001b[0m\u001b[0;34m\u001b[0m\u001b[0;34m\u001b[0m\u001b[0m\n",
      "\u001b[0;31mValueError\u001b[0m: invalid literal for int() with base 10: ''"
     ]
    }
   ],
   "source": [
    "#5\n",
    "number = int(input(\"请输入分数\"))\n",
    "\n",
    "# 主要考察多重判断的写法，大家自行理解\n",
    "if number >= 60:\n",
    "    if number >=70:\n",
    "        if number >=80:\n",
    "            if number >=90:\n",
    "                print(\"A\")\n",
    "            else:\n",
    "                print(\"B\")\n",
    "        else:\n",
    "            print(\"C\")\n",
    "    else:\n",
    "        print(\"D\")\n",
    "else:\n",
    "    print(\"E\")"
   ]
  },
  {
   "cell_type": "code",
   "execution_count": 6,
   "metadata": {
    "id": "8F8D11F21DE44CB087317D9AD1D23A72",
    "jupyter": {},
    "scrolled": false,
    "slideshow": {
     "slide_type": "slide"
    },
    "tags": []
   },
   "outputs": [
    {
     "name": "stdout",
     "output_type": "stream",
     "text": [
      "50\n"
     ]
    }
   ],
   "source": [
    "#6\n",
    "sum = 0\n",
    "for x in range(1,100,2):\n",
    "    sum += x\n",
    "for y in range(2,99,2):\n",
    "    sum -= y\n",
    "print(sum)"
   ]
  },
  {
   "cell_type": "code",
   "execution_count": 7,
   "metadata": {
    "id": "F27C14CAA497416B82D209F96DAEF71E",
    "jupyter": {},
    "scrolled": false,
    "slideshow": {
     "slide_type": "slide"
    },
    "tags": []
   },
   "outputs": [
    {
     "name": "stdout",
     "output_type": "stream",
     "text": [
      "['stu1', 'stu2', 'stu4', 'stu5', 'stu6']\n"
     ]
    }
   ],
   "source": [
    "#7\n",
    "namelist = ['stu1','stu2','stu3','stu4','stu5','stu6','stu7']\n",
    "removelist = ['stu3','stu7','stu9']\n",
    "for name in namelist:\n",
    "    if name in removelist:\n",
    "        namelist.remove(name)\n",
    "    else:\n",
    "        pass\n",
    "print(namelist)"
   ]
  },
  {
   "cell_type": "code",
   "execution_count": null,
   "metadata": {},
   "outputs": [],
   "source": []
  },
  {
   "cell_type": "code",
   "execution_count": null,
   "metadata": {},
   "outputs": [],
   "source": []
  }
 ],
 "metadata": {
  "kernelspec": {
   "display_name": "Python 3",
   "language": "python",
   "name": "python3"
  },
  "language_info": {
   "codemirror_mode": {
    "name": "ipython",
    "version": 3
   },
   "file_extension": ".py",
   "mimetype": "text/x-python",
   "name": "python",
   "nbconvert_exporter": "python",
   "pygments_lexer": "ipython3",
   "version": "3.8.3"
  }
 },
 "nbformat": 4,
 "nbformat_minor": 1
}
