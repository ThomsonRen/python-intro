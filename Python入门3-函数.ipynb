{
 "cells": [
  {
   "cell_type": "markdown",
   "metadata": {
    "id": "A6ADF0E454E5426084BB3453335AE3A4",
    "jupyter": {},
    "mdEditEnable": false,
    "slideshow": {
     "slide_type": "slide"
    },
    "tags": []
   },
   "source": [
    "# 数学建模基础课:Python入门(3)——函数"
   ]
  },
  {
   "cell_type": "markdown",
   "metadata": {
    "id": "90DB8BFB514C43BF86C84EA29977B66B",
    "jupyter": {},
    "mdEditEnable": false,
    "slideshow": {
     "slide_type": "slide"
    },
    "tags": []
   },
   "source": [
    "# 初识函数\n",
    "\n",
    "函数是一个具有特定功能的**可重复使用**的代码块。\n",
    "\n",
    "共有两种类型的函数：\n",
    "- **预定义函数**：在Python或某个包中自带的函数，已经定义了功能。比如之前使用的 **`sum()`** 就是一个预定义函数，可以返回其输入值的总和。 \n",
    "- **用户定义函数**：由程序员自定义的函数，比如你可以创建一个一旦调用就会输出hello world的函数。"
   ]
  },
  {
   "cell_type": "markdown",
   "metadata": {
    "id": "942AD3D126B94663A876B526532BCF45",
    "jupyter": {},
    "mdEditEnable": false,
    "slideshow": {
     "slide_type": "slide"
    },
    "tags": []
   },
   "source": [
    "## 预定义函数\n",
    "\n",
    "Python中有许多预定义函数，让我们从其中一些简单的函数开始学习。\n",
    "\n",
    "如同之前学习到的，使用max函数可以得到列表中最大的数值。"
   ]
  },
  {
   "cell_type": "code",
   "execution_count": 1,
   "metadata": {
    "id": "EB89166C630D49B48526EB2B5A2DE7C2",
    "jupyter": {},
    "scrolled": false,
    "slideshow": {
     "slide_type": "slide"
    },
    "tags": []
   },
   "outputs": [
    {
     "name": "stdout",
     "output_type": "stream",
     "text": [
      "rate: 10.0\n",
      "max_temp: 10.0\n",
      "rate: 8.5\n",
      "rate: 9.5\n",
      "rate: 12.5\n",
      "max_temp: 12.5\n",
      "rate: 7.0\n",
      "rate: 7.0\n",
      "rate: 9.5\n",
      "rate: 9.0\n",
      "rate: 9.5\n"
     ]
    },
    {
     "data": {
      "text/plain": [
       "12.5"
      ]
     },
     "execution_count": 1,
     "metadata": {},
     "output_type": "execute_result"
    }
   ],
   "source": [
    "album_ratings = [10.0,8.5,9.5,12.5,7.0,7.0,9.5,9.0,9.5] \n",
    "\n",
    "\n",
    "max_temp = 0\n",
    "for rate in album_ratings:\n",
    "    print('rate:',rate)\n",
    "    if rate>max_temp:\n",
    "        max_temp = rate\n",
    "        print('max_temp:',max_temp)\n",
    "max_temp"
   ]
  },
  {
   "cell_type": "code",
   "execution_count": 2,
   "metadata": {
    "id": "D98DBEB9D3EC44FA89A64C5D4FAAF2FC",
    "jupyter": {},
    "scrolled": false,
    "slideshow": {
     "slide_type": "slide"
    },
    "tags": []
   },
   "outputs": [
    {
     "data": {
      "text/plain": [
       "12.5"
      ]
     },
     "execution_count": 2,
     "metadata": {},
     "output_type": "execute_result"
    }
   ],
   "source": [
    "album_ratings = [10.0,8.5,9.5,12.5,7.0,7.0,9.5,9.0,9.5] \n",
    "max(album_ratings)"
   ]
  },
  {
   "cell_type": "markdown",
   "metadata": {
    "id": "18EE2DFB68F74088AC3AC6C78D23C3BD",
    "jupyter": {},
    "mdEditEnable": false,
    "slideshow": {
     "slide_type": "slide"
    },
    "tags": []
   },
   "source": [
    "Tip:如何了解更多的Python预定义函数呢？\n",
    "\n",
    "Python的预定义函数数量非常多，在这里无法一一介绍，我们会在使用中不断学习，有兴趣的同学可以去以下网站自行学习：\n",
    "http://www.astro.up.pt/~sousasag/Python_For_Astronomers/Python_qr.pdf"
   ]
  },
  {
   "cell_type": "markdown",
   "metadata": {
    "id": "B9D920A638AA49B782ECAD108EDB6326",
    "jupyter": {},
    "mdEditEnable": false,
    "slideshow": {
     "slide_type": "slide"
    },
    "tags": []
   },
   "source": [
    "## 用户定义函数\n",
    "\n",
    "***语法***\n",
    "\n",
    "    def 函数名（参数列表）:\n",
    "        函数体\n",
    "    \n",
    "Python的函数可以很容易地创建，如下：\n",
    "$$\n",
    "y = x^2 + x -3\n",
    "$$"
   ]
  },
  {
   "cell_type": "code",
   "execution_count": 3,
   "metadata": {
    "id": "50C62F5BAA4049B2A803331B4B132809",
    "jupyter": {},
    "scrolled": false,
    "slideshow": {
     "slide_type": "slide"
    },
    "tags": []
   },
   "outputs": [],
   "source": [
    "def f(x): # 函数的定义 f是函数名，x是函数输入\n",
    "    y = x**2 + x - 3\n",
    "    return y  # 函数返回值"
   ]
  },
  {
   "cell_type": "code",
   "execution_count": 4,
   "metadata": {
    "id": "40794ACD67BD4ED9B0F5C921C324E1C1",
    "jupyter": {},
    "scrolled": false,
    "slideshow": {
     "slide_type": "slide"
    },
    "tags": []
   },
   "outputs": [
    {
     "data": {
      "text/plain": [
       "17"
      ]
     },
     "execution_count": 4,
     "metadata": {},
     "output_type": "execute_result"
    }
   ],
   "source": [
    "f(4)"
   ]
  },
  {
   "cell_type": "code",
   "execution_count": 5,
   "metadata": {
    "id": "1DDB5A4A95F64A9AAC570600B48B3F5D",
    "jupyter": {},
    "scrolled": false,
    "slideshow": {
     "slide_type": "slide"
    },
    "tags": []
   },
   "outputs": [
    {
     "data": {
      "text/plain": [
       "107"
      ]
     },
     "execution_count": 5,
     "metadata": {},
     "output_type": "execute_result"
    }
   ],
   "source": [
    "f(10)"
   ]
  },
  {
   "cell_type": "markdown",
   "metadata": {
    "id": "966E8254B054435CB9AD65D0A0D7D3E3",
    "jupyter": {},
    "mdEditEnable": false,
    "slideshow": {
     "slide_type": "slide"
    },
    "tags": []
   },
   "source": [
    "你来尝试：\n",
    "\n",
    "$$\n",
    "f(x) = \\sqrt{x} + x^x\n",
    "$$\n"
   ]
  },
  {
   "cell_type": "markdown",
   "metadata": {
    "id": "AE5C254B22134659832666376F6E8D47",
    "jupyter": {},
    "mdEditEnable": false,
    "slideshow": {
     "slide_type": "slide"
    },
    "tags": []
   },
   "source": [
    "我们再来实现一个难一点的函数，输入值为一个列表，输出为列表中的每一个元素求平方。"
   ]
  },
  {
   "cell_type": "code",
   "execution_count": 6,
   "metadata": {
    "id": "B6E0BCFABE7B4A7D8A1BC26D3FA4ADD1",
    "jupyter": {},
    "scrolled": false,
    "slideshow": {
     "slide_type": "slide"
    },
    "tags": []
   },
   "outputs": [],
   "source": [
    "def Sq(mylist):\n",
    "    # 输入值x是一个list\n",
    "    y_list = []\n",
    "    for item in mylist:\n",
    "        y_list.append(item**2)\n",
    "        #print(y_list)\n",
    "    return y_list"
   ]
  },
  {
   "cell_type": "code",
   "execution_count": 7,
   "metadata": {
    "id": "4A321868892A4A058C861A772BF4830A",
    "jupyter": {},
    "scrolled": false,
    "slideshow": {
     "slide_type": "slide"
    },
    "tags": []
   },
   "outputs": [
    {
     "data": {
      "text/plain": [
       "[1, 4, 25, 36, 49, 64, 81, 10000, 998001]"
      ]
     },
     "execution_count": 7,
     "metadata": {},
     "output_type": "execute_result"
    }
   ],
   "source": [
    "x = [1,2,5,6,7,8,9,100,999]\n",
    "Sq(x)"
   ]
  },
  {
   "cell_type": "code",
   "execution_count": null,
   "metadata": {
    "id": "5F0D5A783EF6405A84C3B847F6F623AF",
    "jupyter": {},
    "scrolled": false,
    "slideshow": {
     "slide_type": "slide"
    },
    "tags": []
   },
   "outputs": [],
   "source": [
    "def print_hello_world():\n",
    "    print('hello,world!')\n",
    "    return None"
   ]
  },
  {
   "cell_type": "code",
   "execution_count": null,
   "metadata": {
    "id": "82DE903288E9406D9BB441D2E58DF318",
    "jupyter": {},
    "scrolled": false,
    "slideshow": {
     "slide_type": "slide"
    },
    "tags": []
   },
   "outputs": [],
   "source": [
    "print_hello_world()"
   ]
  },
  {
   "cell_type": "markdown",
   "metadata": {
    "id": "AF67D7327D99444CA0E4525372881D94",
    "jupyter": {},
    "mdEditEnable": false,
    "slideshow": {
     "slide_type": "slide"
    },
    "tags": []
   },
   "source": [
    "也可以定义二元函数(多元函数类似)"
   ]
  },
  {
   "cell_type": "code",
   "execution_count": 9,
   "metadata": {
    "id": "43385286D65A4899A06EEA27D07C9DB5",
    "jupyter": {},
    "scrolled": false,
    "slideshow": {
     "slide_type": "slide"
    },
    "tags": []
   },
   "outputs": [],
   "source": [
    "def g(x,y,z):\n",
    "    t = x**2 + y**2 + z**2\n",
    "    return t"
   ]
  },
  {
   "cell_type": "code",
   "execution_count": 10,
   "metadata": {
    "id": "D6263E3598A84B2FB9CD3427781DCE98",
    "jupyter": {},
    "scrolled": false,
    "slideshow": {
     "slide_type": "slide"
    },
    "tags": []
   },
   "outputs": [
    {
     "data": {
      "text/plain": [
       "48"
      ]
     },
     "execution_count": 10,
     "metadata": {},
     "output_type": "execute_result"
    }
   ],
   "source": [
    "g(4,4,4)"
   ]
  },
  {
   "cell_type": "code",
   "execution_count": 13,
   "metadata": {
    "id": "B12B388FAB544B80808497805B4D3177",
    "jupyter": {},
    "scrolled": false,
    "slideshow": {
     "slide_type": "slide"
    },
    "tags": []
   },
   "outputs": [],
   "source": [
    "def calculateArea(a=2,b=2,c=2):\n",
    "    '''\n",
    "    这是计算三角形周长和面积的函数，输入为：\n",
    "        a,b,c也就是三个边\n",
    "    输出为：\n",
    "        面积和周长\n",
    "    '''\n",
    "    if (a+b)>c and (a+c)>b and (b+c)>a:\n",
    "        perimeter=a+b+c\n",
    "        p=perimeter*0.5\n",
    "        area=(p*(p-a)*(p-b)*(p-c))**0.5\n",
    "        return area,perimeter\n",
    "    else:\n",
    "        print('不能构成三角形')\n",
    "        return None"
   ]
  },
  {
   "cell_type": "code",
   "execution_count": 14,
   "metadata": {
    "id": "0EEFA0617D084F18A707D9AE3D4A47DF",
    "jupyter": {},
    "scrolled": false,
    "slideshow": {
     "slide_type": "slide"
    },
    "tags": []
   },
   "outputs": [
    {
     "data": {
      "text/plain": [
       "(1.3905372163304368, 7.5)"
      ]
     },
     "execution_count": 14,
     "metadata": {},
     "output_type": "execute_result"
    }
   ],
   "source": [
    "calculateArea(a=1,b=3,c = 3.5)"
   ]
  },
  {
   "cell_type": "code",
   "execution_count": 15,
   "metadata": {
    "id": "3E56009D326649858311CE872429DC9D",
    "jupyter": {},
    "scrolled": false,
    "slideshow": {
     "slide_type": "slide"
    },
    "tags": []
   },
   "outputs": [
    {
     "data": {
      "text/plain": [
       "(1.7320508075688772, 6)"
      ]
     },
     "execution_count": 15,
     "metadata": {},
     "output_type": "execute_result"
    }
   ],
   "source": [
    "calculateArea(2,2,2)"
   ]
  },
  {
   "cell_type": "code",
   "execution_count": null,
   "metadata": {
    "id": "E066AE0C7CAE456CB63BAAF906C89FB8",
    "jupyter": {},
    "slideshow": {
     "slide_type": "slide"
    },
    "tags": []
   },
   "outputs": [],
   "source": []
  },
  {
   "cell_type": "markdown",
   "metadata": {
    "id": "77BA7468471C45D084D68133CD76FDAC",
    "jupyter": {},
    "mdEditEnable": false,
    "slideshow": {
     "slide_type": "slide"
    },
    "tags": []
   },
   "source": [
    "你可以定义一个由自己想要功能的函数，以下是简单的规则：\n",
    "\n",
    "- 函数代码块以 `def` 关键词开头，后接函数标识符名称和圆括号()。\n",
    "- 任何传入参数和自变量必须放在圆括号中间。圆括号之间可以用于定义参数。\n",
    "- 函数的第一行语句可以选择性地使用文档字符串—用于存放函数说明。\n",
    "- 函数内容以冒号起始，并且缩进。\n",
    "- return [表达式] 结束函数，选择性地返回一个值给调用方。不带表达式的return相当于返回 None."
   ]
  },
  {
   "cell_type": "markdown",
   "metadata": {
    "id": "E2D42BE6D8A94E3482E1745D715FB08D",
    "jupyter": {},
    "mdEditEnable": false,
    "slideshow": {
     "slide_type": "slide"
    },
    "tags": []
   },
   "source": [
    "***Tip:函数体现了编程的两个重要思想：抽象与封装***\n",
    "\n",
    "抽象与封装是程序设计的基本思想，函数很好地体现了这两种思想：\n",
    "* 抽象：函数使程序员不用关心其具体的实现，只需用函数名调用它。例如，sqrt()函数是求平方根的函数，程序员调用它时无需知道平方根到底是如何计    算的，只需要知道该函数可以计算平方根即可。\n",
    "\n",
    "* 封装：函数将其功能封装了起来，函数的使用者只需要用函数名和参数来调用它，而无需关注其内部实现。因此，封装使程序的可维护性大大提高了。\n"
   ]
  },
  {
   "cell_type": "markdown",
   "metadata": {
    "id": "FAD4573D8C244B128DF3980C173522C5",
    "jupyter": {},
    "mdEditEnable": false,
    "slideshow": {
     "slide_type": "slide"
    },
    "tags": []
   },
   "source": [
    "当函数的参数很多的时候，仅仅依靠前面的方法就不太奏效了，比如一个拥有十个参数的函数。我们可能会使用下面的定义方法：\n",
    "\n",
    "`def function(a,b,c,d,e,f,g,h,i,j):`\n",
    "\n",
    "\n",
    "但是，显然这种定义方法过于繁杂，而且有可能让用户的使用的时候忘记了参数的顺序，导致错误，下面我们就介绍几种其他的参数使用方法。"
   ]
  },
  {
   "cell_type": "markdown",
   "metadata": {
    "id": "CB6D411E1E16429E85BE3E16F712CB32",
    "jupyter": {},
    "mdEditEnable": false,
    "slideshow": {
     "slide_type": "slide"
    },
    "tags": []
   },
   "source": [
    "### 在函数中使用参数\n",
    "\n",
    "\n",
    "\n",
    "以下是调用函数时可使用的正式参数类型：\n",
    "\n",
    "- 必需参数\n",
    "- 关键字参数\n",
    "- 默认参数\n",
    "- 不定长参数"
   ]
  },
  {
   "cell_type": "markdown",
   "metadata": {
    "id": "D0242FB6BFE645D8888CD130DFCCDC93",
    "jupyter": {},
    "mdEditEnable": false,
    "slideshow": {
     "slide_type": "slide"
    },
    "tags": []
   },
   "source": [
    "#### 必需参数\n",
    "必需参数须以正确的顺序传入函数。调用时的数量必须和声明时的一样。"
   ]
  },
  {
   "cell_type": "code",
   "execution_count": 16,
   "metadata": {
    "id": "978CAB9521B64ACA88928FB2700235AE",
    "jupyter": {},
    "scrolled": false,
    "slideshow": {
     "slide_type": "slide"
    },
    "tags": []
   },
   "outputs": [
    {
     "name": "stdout",
     "output_type": "stream",
     "text": [
      "World\n",
      "Hello\n"
     ]
    }
   ],
   "source": [
    "def printme( str1, str2 ):\n",
    "    print(str1)\n",
    "    print(str2)\n",
    "\n",
    "str1 = 'Hello'\n",
    "str2 = 'World'\n",
    "printme(str2,str1) "
   ]
  },
  {
   "cell_type": "code",
   "execution_count": 20,
   "metadata": {
    "id": "898A2ED3EDE74B179B343BD287F62CA5",
    "jupyter": {},
    "scrolled": false,
    "slideshow": {
     "slide_type": "slide"
    },
    "tags": []
   },
   "outputs": [],
   "source": [
    "def grow(name,currentAge,Year):\n",
    "    print(name+' will be',currentAge + Year,'years old.')"
   ]
  },
  {
   "cell_type": "code",
   "execution_count": 21,
   "metadata": {
    "id": "25E658AB13B042118B4D3639AE0D728B",
    "jupyter": {},
    "scrolled": false,
    "slideshow": {
     "slide_type": "slide"
    },
    "tags": []
   },
   "outputs": [
    {
     "name": "stdout",
     "output_type": "stream",
     "text": [
      "Pete will be 12 years old.\n"
     ]
    }
   ],
   "source": [
    "grow('Pete',10,2)"
   ]
  },
  {
   "cell_type": "markdown",
   "metadata": {
    "id": "93C03587DCF540FF8B63E5BA71764CC2",
    "jupyter": {},
    "mdEditEnable": false,
    "slideshow": {
     "slide_type": "slide"
    },
    "tags": []
   },
   "source": [
    "#### 关键字参数\n",
    "关键字参数和函数调用关系紧密，函数调用使用关键字参数来确定传入的参数值。"
   ]
  },
  {
   "cell_type": "code",
   "execution_count": 22,
   "metadata": {
    "id": "436C61BAFC8B4C82928DC1A3BCEA2E2E",
    "jupyter": {},
    "scrolled": false,
    "slideshow": {
     "slide_type": "slide"
    },
    "tags": []
   },
   "outputs": [
    {
     "name": "stdout",
     "output_type": "stream",
     "text": [
      "Pete will be 12 years old.\n"
     ]
    }
   ],
   "source": [
    "grow(Year = 2,currentAge = 10,name = 'Pete')"
   ]
  },
  {
   "cell_type": "code",
   "execution_count": 24,
   "metadata": {
    "id": "AA86C0D2FC0045129813A7101DF2D0B1",
    "jupyter": {},
    "scrolled": false,
    "slideshow": {
     "slide_type": "slide"
    },
    "tags": []
   },
   "outputs": [
    {
     "name": "stdout",
     "output_type": "stream",
     "text": [
      "hello\n",
      "world\n"
     ]
    }
   ],
   "source": [
    "def printme( str1, str2 ):\n",
    "    print(str1)\n",
    "    print(str2)\n",
    "\n",
    "t1 = 'hello'\n",
    "t2 = 'world'\n",
    "printme(str2 = t2,str1 = t1)  #调用printme函数，使用 str= 可以避免"
   ]
  },
  {
   "cell_type": "markdown",
   "metadata": {
    "id": "7F8A8F3083DC4091822BF911488347E9",
    "jupyter": {},
    "mdEditEnable": false,
    "slideshow": {
     "slide_type": "slide"
    },
    "tags": []
   },
   "source": [
    "#### 默认参数\n",
    "调用函数时，如果没有传递参数，则会使用默认参数。"
   ]
  },
  {
   "cell_type": "code",
   "execution_count": 25,
   "metadata": {
    "id": "888DCDE28BA14BDB86586069F6461730",
    "jupyter": {},
    "mdEditEnable": false,
    "scrolled": false,
    "slideshow": {
     "slide_type": "slide"
    },
    "tags": []
   },
   "outputs": [
    {
     "name": "stdout",
     "output_type": "stream",
     "text": [
      "name:  Python\n",
      "age:  10\n"
     ]
    }
   ],
   "source": [
    "def printinfo( name = 'LinCol', age = 35 ):\n",
    "    print(\"name: \", name)\n",
    "    print(\"age: \", age)\n",
    "\n",
    "printinfo(name = 'Python',age = 10)"
   ]
  },
  {
   "cell_type": "code",
   "execution_count": 26,
   "metadata": {
    "id": "685D3A2BC9C74F7CAE64FB88D0C624A5",
    "jupyter": {},
    "scrolled": false,
    "slideshow": {
     "slide_type": "slide"
    },
    "tags": []
   },
   "outputs": [
    {
     "name": "stdout",
     "output_type": "stream",
     "text": [
      "name:  LinCol\n",
      "age:  50\n"
     ]
    }
   ],
   "source": [
    "printinfo( age=50)"
   ]
  },
  {
   "cell_type": "code",
   "execution_count": 27,
   "metadata": {
    "id": "3C495C8329B4432DB4833EC0EF37AFCA",
    "jupyter": {},
    "scrolled": false,
    "slideshow": {
     "slide_type": "slide"
    },
    "tags": []
   },
   "outputs": [
    {
     "name": "stdout",
     "output_type": "stream",
     "text": [
      "name:  LinCol\n",
      "age:  18\n"
     ]
    }
   ],
   "source": [
    "printinfo(age = 18)"
   ]
  },
  {
   "cell_type": "markdown",
   "metadata": {
    "id": "752DE4CCB8654C94A9936BA1D9B51138",
    "jupyter": {},
    "mdEditEnable": false,
    "slideshow": {
     "slide_type": "slide"
    },
    "tags": []
   },
   "source": [
    "### 全局和局部变量\n",
    "\n",
    "我们可以在函数内创建变量，但是你是否注意到了函数外的变量发生了什么？ \n",
    "\n",
    "让我们看一下printer函数返回了什么结果。"
   ]
  },
  {
   "cell_type": "code",
   "execution_count": 31,
   "metadata": {
    "id": "6B63E52480F342188021EF429A19C9CD",
    "jupyter": {},
    "scrolled": false,
    "slideshow": {
     "slide_type": "slide"
    },
    "tags": []
   },
   "outputs": [
    {
     "name": "stdout",
     "output_type": "stream",
     "text": [
      "Michael Jackson\n"
     ]
    },
    {
     "data": {
      "text/plain": [
       "'Michael Jackson'"
      ]
     },
     "execution_count": 31,
     "metadata": {},
     "output_type": "execute_result"
    }
   ],
   "source": [
    "artist = \"Michael Jackson\"\n",
    "def func(artist):\n",
    "    internal_var = artist\n",
    "    print (internal_var)\n",
    "    return internal_var\n",
    "    \n",
    "a = func(artist)\n",
    "a"
   ]
  },
  {
   "cell_type": "code",
   "execution_count": 32,
   "metadata": {
    "id": "10922DB93F494EB58CAC488908C80AB8",
    "jupyter": {},
    "scrolled": false,
    "slideshow": {
     "slide_type": "slide"
    },
    "tags": []
   },
   "outputs": [
    {
     "ename": "NameError",
     "evalue": "name 'internal_var' is not defined",
     "output_type": "error",
     "traceback": [
      "\u001b[1;31m---------------------------------------------------------------------------\u001b[0m",
      "\u001b[1;31mNameError\u001b[0m                                 Traceback (most recent call last)",
      "\u001b[1;32m<ipython-input-32-b190f9fdb52c>\u001b[0m in \u001b[0;36m<module>\u001b[1;34m\u001b[0m\n\u001b[1;32m----> 1\u001b[1;33m \u001b[0minternal_var\u001b[0m\u001b[1;33m\u001b[0m\u001b[1;33m\u001b[0m\u001b[0m\n\u001b[0m",
      "\u001b[1;31mNameError\u001b[0m: name 'internal_var' is not defined"
     ]
    }
   ],
   "source": [
    "internal_var"
   ]
  },
  {
   "cell_type": "code",
   "execution_count": 33,
   "metadata": {
    "id": "93A17787E5364BF48D38C934C7F1EC53",
    "jupyter": {},
    "scrolled": false,
    "slideshow": {
     "slide_type": "slide"
    },
    "tags": []
   },
   "outputs": [
    {
     "data": {
      "text/plain": [
       "'Michael Jackson'"
      ]
     },
     "execution_count": 33,
     "metadata": {},
     "output_type": "execute_result"
    }
   ],
   "source": [
    "a"
   ]
  },
  {
   "cell_type": "markdown",
   "metadata": {
    "id": "385D79114E6741C291F46297A5B3248C",
    "jupyter": {},
    "mdEditEnable": false,
    "slideshow": {
     "slide_type": "slide"
    },
    "tags": []
   },
   "source": [
    "我们得到一个错误 NameError `name 'internal_var' is not defined`，表示变量未定义，为什么？\n",
    "\n",
    "这是因为所有变量只会存在于创建它的函数里，我们把这些变量称为**局部变量**，表示它们在函数外部并不存在。"
   ]
  },
  {
   "cell_type": "markdown",
   "metadata": {
    "id": "C60BC1DCA68245E59BC9696EBCE0202F",
    "jupyter": {},
    "mdEditEnable": false,
    "slideshow": {
     "slide_type": "slide"
    },
    "tags": []
   },
   "source": [
    "### 函数的传递"
   ]
  },
  {
   "cell_type": "markdown",
   "metadata": {
    "id": "B6264819449D4CC6877365646BF64598",
    "jupyter": {},
    "mdEditEnable": false,
    "slideshow": {
     "slide_type": "slide"
    },
    "tags": []
   },
   "source": [
    "#### 可更改与不可更改对象\n",
    "在 python 中，strings, tuples, 和 numbers 是不可更改的对象，而 list,dict 等则是可以修改的对象。\n",
    "\n",
    "- 不可变类型：在函数中不可被改变。\n",
    "\n",
    "- 可变类型： 在函数中会被改变。"
   ]
  },
  {
   "cell_type": "code",
   "execution_count": 42,
   "metadata": {
    "id": "2495C2C3A5A54ECFBC40293BCE4A2D62",
    "jupyter": {},
    "scrolled": false,
    "slideshow": {
     "slide_type": "slide"
    },
    "tags": []
   },
   "outputs": [
    {
     "ename": "AttributeError",
     "evalue": "'tuple' object has no attribute 'append'",
     "output_type": "error",
     "traceback": [
      "\u001b[1;31m---------------------------------------------------------------------------\u001b[0m",
      "\u001b[1;31mAttributeError\u001b[0m                            Traceback (most recent call last)",
      "\u001b[1;32m<ipython-input-42-b6887b643852>\u001b[0m in \u001b[0;36m<module>\u001b[1;34m\u001b[0m\n\u001b[0;32m      5\u001b[0m \u001b[0mmytuple\u001b[0m \u001b[1;33m=\u001b[0m \u001b[1;33m(\u001b[0m\u001b[1;36m10\u001b[0m\u001b[1;33m,\u001b[0m\u001b[1;36m20\u001b[0m\u001b[1;33m,\u001b[0m\u001b[1;36m30\u001b[0m\u001b[1;33m)\u001b[0m\u001b[1;33m\u001b[0m\u001b[1;33m\u001b[0m\u001b[0m\n\u001b[0;32m      6\u001b[0m \u001b[1;33m\u001b[0m\u001b[0m\n\u001b[1;32m----> 7\u001b[1;33m \u001b[0mChangeInt\u001b[0m\u001b[1;33m(\u001b[0m\u001b[0mmytuple\u001b[0m\u001b[1;33m)\u001b[0m\u001b[1;33m\u001b[0m\u001b[1;33m\u001b[0m\u001b[0m\n\u001b[0m\u001b[0;32m      8\u001b[0m \u001b[1;33m\u001b[0m\u001b[0m\n\u001b[0;32m      9\u001b[0m \u001b[0mprint\u001b[0m\u001b[1;33m(\u001b[0m\u001b[1;34m\"Out:\"\u001b[0m\u001b[1;33m,\u001b[0m \u001b[0mmytuple\u001b[0m\u001b[1;33m)\u001b[0m\u001b[1;33m\u001b[0m\u001b[1;33m\u001b[0m\u001b[0m\n",
      "\u001b[1;32m<ipython-input-42-b6887b643852>\u001b[0m in \u001b[0;36mChangeInt\u001b[1;34m(mytuple)\u001b[0m\n\u001b[0;32m      1\u001b[0m \u001b[1;32mdef\u001b[0m \u001b[0mChangeInt\u001b[0m\u001b[1;33m(\u001b[0m\u001b[0mmytuple\u001b[0m\u001b[1;33m)\u001b[0m\u001b[1;33m:\u001b[0m\u001b[1;33m\u001b[0m\u001b[1;33m\u001b[0m\u001b[0m\n\u001b[1;32m----> 2\u001b[1;33m     \u001b[0mmytuple\u001b[0m\u001b[1;33m.\u001b[0m\u001b[0mappend\u001b[0m\u001b[1;33m(\u001b[0m\u001b[1;36m40\u001b[0m\u001b[1;33m)\u001b[0m\u001b[1;33m\u001b[0m\u001b[1;33m\u001b[0m\u001b[0m\n\u001b[0m\u001b[0;32m      3\u001b[0m     \u001b[0mprint\u001b[0m\u001b[1;33m(\u001b[0m\u001b[1;34m\"In:\"\u001b[0m\u001b[1;33m,\u001b[0m \u001b[0mmytuple\u001b[0m\u001b[1;33m)\u001b[0m\u001b[1;33m\u001b[0m\u001b[1;33m\u001b[0m\u001b[0m\n\u001b[0;32m      4\u001b[0m \u001b[1;33m\u001b[0m\u001b[0m\n\u001b[0;32m      5\u001b[0m \u001b[0mmytuple\u001b[0m \u001b[1;33m=\u001b[0m \u001b[1;33m(\u001b[0m\u001b[1;36m10\u001b[0m\u001b[1;33m,\u001b[0m\u001b[1;36m20\u001b[0m\u001b[1;33m,\u001b[0m\u001b[1;36m30\u001b[0m\u001b[1;33m)\u001b[0m\u001b[1;33m\u001b[0m\u001b[1;33m\u001b[0m\u001b[0m\n",
      "\u001b[1;31mAttributeError\u001b[0m: 'tuple' object has no attribute 'append'"
     ]
    }
   ],
   "source": [
    "def ChangeInt(mytuple):\n",
    "    mytuple.append(40)\n",
    "    print(\"In:\", mytuple)\n",
    "    \n",
    "mytuple = (10,20,30)\n",
    "\n",
    "ChangeInt(mytuple)\n",
    "\n",
    "print(\"Out:\", mytuple)"
   ]
  },
  {
   "cell_type": "code",
   "execution_count": 41,
   "metadata": {
    "id": "DDD33ED200A942099ACD9D769F504A28",
    "jupyter": {},
    "scrolled": false,
    "slideshow": {
     "slide_type": "slide"
    },
    "tags": []
   },
   "outputs": [
    {
     "name": "stdout",
     "output_type": "stream",
     "text": [
      "In: [10, 20, 30, 40]\n",
      "Out: [10, 20, 30, 40]\n"
     ]
    }
   ],
   "source": [
    "def ChangeList( mylist ):\n",
    "   mylist.append(40)\n",
    "   print (\"In:\", mylist)\n",
    "\n",
    "mylist = [10,20,30]\n",
    "ChangeList( mylist )\n",
    "print (\"Out:\", mylist)"
   ]
  },
  {
   "cell_type": "markdown",
   "metadata": {
    "id": "C4EF82C368CD4EA394E175B7E264E5C0",
    "jupyter": {},
    "mdEditEnable": false,
    "slideshow": {
     "slide_type": "slide"
    },
    "tags": []
   },
   "source": [
    "### 匿名函数\n",
    "使用 lambda 来创建匿名函数。\n",
    "\n",
    "所谓匿名，意即不再使用 def 语句这样标准的形式定义一个函数。\n",
    "\n",
    "- lambda 只是一个表达式，函数体比 def 简单很多。\n",
    "- lambda的主体是一个表达式，而不是一个代码块。仅仅能在lambda表达式中封装有限的逻辑进去。\n",
    "- lambda 函数拥有自己的命名空间，且不能访问自己参数列表之外或全局命名空间里的参数。\n",
    "\n",
    "lambda 函数的语法只包含一个语句，如下：\n",
    "\n",
    "`lambda arg1,arg2,...,argn: expression`"
   ]
  },
  {
   "cell_type": "code",
   "execution_count": 46,
   "metadata": {
    "id": "ECC4FE9672374424B03FF34A5E29C398",
    "jupyter": {},
    "slideshow": {
     "slide_type": "slide"
    },
    "tags": []
   },
   "outputs": [
    {
     "data": {
      "text/plain": [
       "30"
      ]
     },
     "execution_count": 46,
     "metadata": {},
     "output_type": "execute_result"
    }
   ],
   "source": [
    "def mysum(arg1, arg2):\n",
    "    return arg1+arg2\n",
    "mysum(10,20)"
   ]
  },
  {
   "cell_type": "code",
   "execution_count": 48,
   "metadata": {
    "id": "1C35943C6F324AEFAE981FF181F6A964",
    "jupyter": {},
    "scrolled": false,
    "slideshow": {
     "slide_type": "slide"
    },
    "tags": []
   },
   "outputs": [
    {
     "name": "stdout",
     "output_type": "stream",
     "text": [
      "mysum:  30\n"
     ]
    }
   ],
   "source": [
    "mysum = lambda arg1, arg2: arg1 + arg2\n",
    "print (\"mysum: \", mysum( 10, 20 ))"
   ]
  },
  {
   "cell_type": "code",
   "execution_count": 45,
   "metadata": {
    "id": "1579BA7B3950451485116CA20CC49E25",
    "jupyter": {},
    "scrolled": false,
    "slideshow": {
     "slide_type": "slide"
    },
    "tags": []
   },
   "outputs": [
    {
     "name": "stdout",
     "output_type": "stream",
     "text": [
      "mysum:  200\n"
     ]
    }
   ],
   "source": [
    "mytimes = lambda arg1, arg2: arg1 * arg2\n",
    "print (\"mysum: \", mytimes( 10, 20 ))"
   ]
  },
  {
   "cell_type": "markdown",
   "metadata": {
    "id": "B4C0B526DB1740598E4D938FBC7E506B",
    "jupyter": {},
    "mdEditEnable": false,
    "slideshow": {
     "slide_type": "slide"
    },
    "tags": []
   },
   "source": [
    "### 函数返回值\n",
    "\n",
    "`return` 语句用于退出函数，选择性地向调用方返回一个表达式。"
   ]
  },
  {
   "cell_type": "code",
   "execution_count": 49,
   "metadata": {
    "id": "76C2EF48F8E04E5D8143166D97886B57",
    "jupyter": {},
    "scrolled": false,
    "slideshow": {
     "slide_type": "slide"
    },
    "tags": []
   },
   "outputs": [],
   "source": [
    "def returnNum():\n",
    "    return 1,2,3\n",
    "\n",
    "a = returnNum()"
   ]
  },
  {
   "cell_type": "code",
   "execution_count": 50,
   "metadata": {
    "id": "759F4354A64145F89F89FC7E5D725F87",
    "jupyter": {},
    "scrolled": false,
    "slideshow": {
     "slide_type": "slide"
    },
    "tags": []
   },
   "outputs": [
    {
     "data": {
      "text/plain": [
       "(1, 2, 3)"
      ]
     },
     "execution_count": 50,
     "metadata": {},
     "output_type": "execute_result"
    }
   ],
   "source": [
    "a"
   ]
  },
  {
   "cell_type": "code",
   "execution_count": 51,
   "metadata": {
    "id": "A9C4984775B2495B976F4BE83BCF69EE",
    "jupyter": {},
    "scrolled": false,
    "slideshow": {
     "slide_type": "slide"
    },
    "tags": []
   },
   "outputs": [
    {
     "data": {
      "text/plain": [
       "3"
      ]
     },
     "execution_count": 51,
     "metadata": {},
     "output_type": "execute_result"
    }
   ],
   "source": [
    "a[2]"
   ]
  },
  {
   "cell_type": "code",
   "execution_count": 52,
   "metadata": {
    "id": "BE5F135AB7CF4466864B34917AA6AEC2",
    "jupyter": {},
    "scrolled": false,
    "slideshow": {
     "slide_type": "slide"
    },
    "tags": []
   },
   "outputs": [
    {
     "name": "stdout",
     "output_type": "stream",
     "text": [
      "information that i want to print\n"
     ]
    }
   ],
   "source": [
    "x = 'information that i want to print'\n",
    "def printinfo(s):\n",
    "    print(s)\n",
    "    return None\n",
    "myvar =  printinfo(x)"
   ]
  },
  {
   "cell_type": "markdown",
   "metadata": {
    "id": "B85EDC9564C847058B59BC015477B307",
    "jupyter": {},
    "mdEditEnable": false,
    "slideshow": {
     "slide_type": "slide"
    },
    "tags": []
   },
   "source": [
    "Tip:不用`return`时\n",
    "\n",
    "函数没有返回值时，可以省略 `return` 语句，或者写 `return None` 占位。"
   ]
  },
  {
   "cell_type": "markdown",
   "metadata": {
    "id": "2749AA530E324C59B6DCF156B0862DAC",
    "jupyter": {},
    "mdEditEnable": false,
    "slideshow": {
     "slide_type": "slide"
    },
    "tags": []
   },
   "source": [
    "#### 不定长参数（不做要求）\n",
    "你可能需要一个函数能处理比当初声明时更多的参数。这些参数叫做不定长参数，和上述 2 种参数不同，声明时不会命名。基本语法如下：\n",
    "\n",
    "`def functionname([formal_args,] *var_args_tuple ):\n",
    "   function_suite\n",
    "   return [expression]`\n",
    "\n",
    "或者\n",
    "\n",
    "`def functionname([formal_args,] **var_args_dict ):\n",
    "   function_suite\n",
    "   return [expression]`\n",
    "   \n",
    "两者是有区别的。"
   ]
  },
  {
   "cell_type": "code",
   "execution_count": 53,
   "metadata": {
    "id": "AE1EC0E511DF42EB80604ED8CCAC4260",
    "jupyter": {},
    "scrolled": false,
    "slideshow": {
     "slide_type": "slide"
    },
    "tags": []
   },
   "outputs": [
    {
     "name": "stdout",
     "output_type": "stream",
     "text": [
      "Output:\n",
      "40\n",
      "(50, 60, 70, 80, 90, 100, 110)\n",
      "50\n",
      "60\n",
      "70\n",
      "80\n",
      "90\n",
      "100\n",
      "110\n"
     ]
    }
   ],
   "source": [
    "def printinfo( arg1, *vartuple ):\n",
    "    print(\"Output:\")\n",
    "    print(arg1)\n",
    "    print(vartuple)\n",
    "    for v in vartuple:\n",
    "        print(v)\n",
    "\n",
    "printinfo( 40, 50, 60,70 ,80,90,100,110)"
   ]
  },
  {
   "cell_type": "code",
   "execution_count": 56,
   "metadata": {
    "id": "F85A70B41ADF475290B0F9A8E43DF5E0",
    "jupyter": {},
    "scrolled": false,
    "slideshow": {
     "slide_type": "slide"
    },
    "tags": []
   },
   "outputs": [
    {
     "name": "stdout",
     "output_type": "stream",
     "text": [
      "Output:\n",
      "40\n",
      "(50, 80)\n",
      "{'b': 60, 'd': 50}\n"
     ]
    }
   ],
   "source": [
    "def printinfo( arg1, *vartuple1 ,**vartuple ):\n",
    "    print(\"Output:\")\n",
    "    print(arg1)\n",
    "    print(vartuple1)\n",
    "    print(vartuple)\n",
    "\n",
    "printinfo( 40,50,80,b=60,d=50 )"
   ]
  },
  {
   "cell_type": "code",
   "execution_count": 57,
   "metadata": {},
   "outputs": [
    {
     "name": "stdout",
     "output_type": "stream",
     "text": [
      "Output:\n",
      "40\n",
      "(50, 80, 60, 50)\n",
      "{}\n"
     ]
    }
   ],
   "source": [
    "def printinfo( arg1, *vartuple1 ,**vartuple ):\n",
    "    print(\"Output:\")\n",
    "    print(arg1)\n",
    "    print(vartuple1)\n",
    "    print(vartuple)\n",
    "\n",
    "printinfo( 40,50,80,60,50 )"
   ]
  },
  {
   "cell_type": "markdown",
   "metadata": {
    "id": "5A010D8C8B0B471EB4986F3D56076887",
    "jupyter": {},
    "mdEditEnable": false,
    "slideshow": {
     "slide_type": "slide"
    },
    "tags": []
   },
   "source": [
    "## Python3 模块\n",
    "之前我们基本上用Jupyter Notebook来编程，如果你从Jupyter Notebook退出再进入，那么你定义的所有的方法和变量就都消失了。\n",
    "为此 Python 提供了一个办法，把这些定义存放在文件中，为一些脚本或者交互式的解释器实例使用，这个文件被称为模块。\n",
    "模块是一个包含所有你定义的函数和变量的文件，其后缀名是.py。模块可以被别的程序引入，以使用该模块中的函数等功能。这也是使用 python 标准库的方法。"
   ]
  },
  {
   "cell_type": "code",
   "execution_count": 58,
   "metadata": {
    "id": "C962682C69F2494687BD521184FD6911",
    "jupyter": {},
    "scrolled": false,
    "slideshow": {
     "slide_type": "slide"
    },
    "tags": []
   },
   "outputs": [
    {
     "name": "stdout",
     "output_type": "stream",
     "text": [
      "PI =  3.141592653589793\n"
     ]
    }
   ],
   "source": [
    "import math\n",
    "# 圆周率PI\n",
    "print('PI = ', math.pi)"
   ]
  },
  {
   "cell_type": "markdown",
   "metadata": {
    "id": "F180DA7E384D4C0F9F88E859AF45A9FE",
    "jupyter": {},
    "mdEditEnable": false,
    "slideshow": {
     "slide_type": "slide"
    },
    "tags": []
   },
   "source": [
    "***Tip: `import`命令***\n",
    "\n",
    "使用`import` 命令调用Python模块。\n",
    "使用`as` 命令更改模块名称。"
   ]
  },
  {
   "cell_type": "markdown",
   "metadata": {
    "id": "2B573E91594F49B485614169A823E804",
    "jupyter": {},
    "mdEditEnable": false,
    "slideshow": {
     "slide_type": "slide"
    },
    "tags": []
   },
   "source": [
    "## Python3 标准库概览\n",
    "\n",
    "-  `import numpy`  \n",
    "numpy支持大量的维度数组和矩阵运算，对数组运算提供了大量的数学函数库！\n",
    "\n",
    "\n",
    "-  `import pandas`  \n",
    "pandas（Python Data Analysis Library）是基于numpy的数据分析模块，提供了大量标准数据模型和高效操作大型数据集所需要的工具，可以说pandas是使得Python能够成为高效且强大的数据分析环境的重要因素之一。\n",
    "\n",
    "    pandas主要提供了3种数据结构：\n",
    "\n",
    "    1）Series，带标签的一维数组。\n",
    "\n",
    "    2）DataFrame，带标签且大小可变的二维表格结构。\n",
    "\n",
    "    3）Panel，带标签且大小可变的三维数组。\n",
    "    \n",
    "\n",
    "- 操作系统接口 `import os`  \n",
    "os模块提供了不少与操作系统相关联的函数。\n",
    "\n",
    "\n",
    "- 文件通配符 `import glob`  \n",
    "glob模块提供了一个函数用于从目录通配符搜索中生成文件列表。\n",
    "\n",
    "\n",
    "- 命令行参数 `import sys`  \n",
    "通用工具脚本经常调用命令行参数。这些命令行参数以链表形式存储于 sys 模块的 argv 变量。\n",
    "\n",
    "\n",
    "- 字符串正则匹配 `import re`  \n",
    "re模块为高级字符串处理提供了正则表达式工具。对于复杂的匹配和处理，正则表达式提供了简洁、优化的解决方案。\n",
    "\n",
    "\n",
    "- 数学 `import math`  \n",
    "math模块为浮点运算提供了对底层C函数库的访问。\n",
    "\n",
    "\n",
    "- 随机数 `import random`  \n",
    "random提供了生成随机数的工具。\n",
    "\n",
    "\n",
    "- 日期和时间 `import datatime`  \n",
    "datetime模块为日期和时间处理同时提供了简单和复杂的方法。支持日期和时间算法的同时，实现的重点放在更有效的处理和格式化输出。\n",
    "\n",
    "\n",
    "- 访问 互联网 `from urllib.request import urlopen` `import smtplib`  \n",
    "有几个模块用于访问互联网以及处理网络通信协议。其中最简单的两个是用于处理从 urls 接收的数据的 urllib.request 以及用于发送电子邮件的 smtplib:\n"
   ]
  },
  {
   "cell_type": "markdown",
   "metadata": {
    "id": "27BDA4D231414A9899E3788B731AB06C",
    "jupyter": {},
    "mdEditEnable": false,
    "slideshow": {
     "slide_type": "slide"
    },
    "tags": []
   },
   "source": [
    "# 练习作业\n",
    "<div class=\"alert alert-block alert-success\">\n",
    "请注意写作业的过程中，给函数起一个好理解的名字\n",
    "</div>\n",
    "\n",
    "1. 请定义一个函数，输入为一串list（任意长度），输出为其最大值和最小值（两个返回值）。\n",
    "\n",
    "1. 编写一个函数，输入n为偶数时，调用函数求1/2+1/4+...+1/n,当输入n为奇数时，调用函数1/1+1/3+...+1/n\n",
    "\n",
    "1. 使用匿名函数编写一个简单的函数，输入为两个变量$a$,$b$，计算 $a^2 + b ^2$\n",
    "\n",
    "1. 写一个函数，输入为一个列表，输出为一个新的列表，新列表中每一个元素为原列表中每一个元素求对数\n",
    "\n",
    "1. 写函数，传入一个参数n，返回n的阶乘\n",
    "\n",
    "1. 写函数，传入一个数字a和它的幂次b，计算$a^b$，如省略输入幂次，默认计算二次方（b=2）,例如\n",
    "`f(a = 1,b =2) = 1`\n",
    "`f(a = 2,b =2) = 4`\n",
    "`f(a = 2) = 4`\n",
    "\n",
    "1. 写函数，传入一个列表，和一个字符串，如果字符串是`reverse`,则将原列表反向后输出，如果字符串是`normal`,则将原列表原样输出。如果不输入字符串，默认`Normal`。例如\n",
    "`f([1,2,3],str = 'reverse') = [3,2,1]` ,\n",
    "`f([1,2,3],str = 'normal') = [1,2,3]`,\n",
    "`f([1,2,3]) = [1,2,3]`\n",
    "\n"
   ]
  },
  {
   "cell_type": "code",
   "execution_count": null,
   "metadata": {},
   "outputs": [],
   "source": []
  }
 ],
 "metadata": {
  "kernelspec": {
   "display_name": "Python 3",
   "language": "python",
   "name": "python3"
  },
  "language_info": {
   "codemirror_mode": {
    "name": "ipython",
    "version": 3
   },
   "file_extension": ".py",
   "mimetype": "text/x-python",
   "name": "python",
   "nbconvert_exporter": "python",
   "pygments_lexer": "ipython3",
   "version": "3.8.3"
  },
  "toc": {
   "base_numbering": 1,
   "nav_menu": {},
   "number_sections": true,
   "sideBar": true,
   "skip_h1_title": false,
   "title_cell": "Table of Contents",
   "title_sidebar": "Contents",
   "toc_cell": false,
   "toc_position": {},
   "toc_section_display": true,
   "toc_window_display": false
  }
 },
 "nbformat": 4,
 "nbformat_minor": 1
}
