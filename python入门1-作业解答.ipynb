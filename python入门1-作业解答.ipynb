{
 "cells": [
  {
   "cell_type": "markdown",
   "metadata": {
    "cell_type": "code",
    "id": "9B3DAEBDBBA842728C445FE58B80BF21",
    "jupyter": {},
    "mdEditEnable": false,
    "slideshow": {
     "slide_type": "slide"
    },
    "tags": []
   },
   "source": [
    "\n",
    "\n",
    "1. 把'Hello World!'赋值给一个字符串变量并且输出。\n",
    "1. 计算\n",
    "$$\n",
    "30 \\times 2^2 + \\sqrt{2}-1\n",
    "$$\n",
    "1. 假设现在有四位同学的成绩分别为100,99,60和78，请你用一个列表将其存储起来，命名为 Score并计算他们的平均成绩。\n",
    "1. 假设现在有三位同学,名字分别为A,B,C，手机号分别为111,222,333,请你用一个字典将其存储起来，命名为Dic。\n",
    "1. 请生成一个list，命名为MyList,其中的元素为`1,2,3,4,5,6,7,8,9,10`，然后使用上述方法，按以下要求进行访问\n",
    "\n",
    "\t1. 从第一个元素访问到第八个元素（注意list的索引是从0开始哦）\n",
    "\t2. 从第一个元素访问到第九个元素，以3为步长\n",
    "\t2. 访问最后三个元素\n",
    "1. 生成一个列表，命名为a，包含元素为3，4，5，6。\n",
    "\t2. 然后把其中的元素4删掉\n",
    "\t2. 在列表后面加上7，8，9\n",
    "\t2. 将以上操作后的结果存为一个新的变量b"
   ]
  },
  {
   "cell_type": "code",
   "execution_count": 1,
   "metadata": {
    "id": "9FCACC5A72274513A9D9468E1F03F4B7",
    "jupyter": {},
    "scrolled": false,
    "slideshow": {
     "slide_type": "slide"
    },
    "tags": []
   },
   "outputs": [
    {
     "name": "stdout",
     "output_type": "stream",
     "text": [
      "hello_world\n"
     ]
    }
   ],
   "source": [
    "# 作业1\n",
    "my_string = 'hello_world'\n",
    "print(my_string)"
   ]
  },
  {
   "cell_type": "code",
   "execution_count": 2,
   "metadata": {
    "id": "8DE26DF2B75D475E951CE66A84E542FD",
    "jupyter": {},
    "scrolled": false,
    "slideshow": {
     "slide_type": "slide"
    },
    "tags": []
   },
   "outputs": [
    {
     "data": {
      "text/plain": [
       "120.41421356237309"
      ]
     },
     "execution_count": 2,
     "metadata": {},
     "output_type": "execute_result"
    }
   ],
   "source": [
    "# 作业2\n",
    "30 * (2**2) + 2**(0.5) -1 "
   ]
  },
  {
   "cell_type": "code",
   "execution_count": 3,
   "metadata": {
    "id": "9ADEF278BE8A4EE5B5E7EAE6E124920D",
    "jupyter": {},
    "scrolled": false,
    "slideshow": {
     "slide_type": "slide"
    },
    "tags": []
   },
   "outputs": [
    {
     "data": {
      "text/plain": [
       "84.25"
      ]
     },
     "execution_count": 3,
     "metadata": {},
     "output_type": "execute_result"
    }
   ],
   "source": [
    "# 作业3\n",
    "score = [100,99,60,78]\n",
    "sum(score)/len(score)"
   ]
  },
  {
   "cell_type": "code",
   "execution_count": 4,
   "metadata": {
    "id": "8DD65A6374094B0A826246D34BAEFC99",
    "jupyter": {},
    "scrolled": false,
    "slideshow": {
     "slide_type": "slide"
    },
    "tags": []
   },
   "outputs": [],
   "source": [
    "# 作业4\n",
    "Dic = {'A':111,'B':222,'C':333}"
   ]
  },
  {
   "cell_type": "code",
   "execution_count": 8,
   "metadata": {
    "id": "95BDB3433F104573A037309BC921EF30",
    "jupyter": {},
    "scrolled": false,
    "slideshow": {
     "slide_type": "slide"
    },
    "tags": []
   },
   "outputs": [
    {
     "name": "stdout",
     "output_type": "stream",
     "text": [
      "[1, 2, 3, 4, 5, 6, 7, 8]\n",
      "[1, 4, 7, 10]\n",
      "[8, 9, 10]\n"
     ]
    }
   ],
   "source": [
    "# 作业5\n",
    "MyList = [1,2,3,4,5,6,7,8,9,10]\n",
    "print(MyList[0:8])\n",
    "print(MyList[0:10:3])\n",
    "print(MyList[-3:])"
   ]
  },
  {
   "cell_type": "code",
   "execution_count": 13,
   "metadata": {
    "id": "7B822BB179B24F358666D24EBF7FBF11",
    "jupyter": {},
    "scrolled": false,
    "slideshow": {
     "slide_type": "slide"
    },
    "tags": []
   },
   "outputs": [
    {
     "name": "stdout",
     "output_type": "stream",
     "text": [
      "[3, 5, 6]\n",
      "[3, 5, 6, 7, 8, 9]\n"
     ]
    }
   ],
   "source": [
    "# 作业6\n",
    "a = [3,4,5,6]\n",
    "a.remove(4)\n",
    "print(a)\n",
    "b = a + [7,8,9]\n",
    "print(b)"
   ]
  }
 ],
 "metadata": {
  "kernelspec": {
   "display_name": "Python 3",
   "language": "python",
   "name": "python3"
  },
  "language_info": {
   "codemirror_mode": {
    "name": "ipython",
    "version": 3
   },
   "file_extension": ".py",
   "mimetype": "text/x-python",
   "name": "python",
   "nbconvert_exporter": "python",
   "pygments_lexer": "ipython3",
   "version": "3.8.3"
  }
 },
 "nbformat": 4,
 "nbformat_minor": 1
}
