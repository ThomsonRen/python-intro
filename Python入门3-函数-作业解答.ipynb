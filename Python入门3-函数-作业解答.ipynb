{
 "cells": [
  {
   "cell_type": "markdown",
   "metadata": {
    "id": "FEE168F3574243FF8239D8A98EA6A7CB",
    "jupyter": {},
    "mdEditEnable": false,
    "slideshow": {
     "slide_type": "slide"
    },
    "tags": []
   },
   "source": [
    "# 练习作业：\n",
    "\n",
    ">（请注意写作业的过程中，给函数起一个好理解的名字）\n",
    "\n",
    "\n",
    "1. 请定义一个函数，输入为一串list（任意长度），输出为其最大值和最小值（两个返回值）。\n",
    "\n",
    "1. 编写一个函数，输入n为偶数时，调用函数求1/2+1/4+...+1/n,当输入n为奇数时，调用函数1/1+1/3+...+1/n\n",
    "\n",
    "1. 使用匿名函数编写一个简单的函数，输入为两个变量$a$,$b$，计算 $a^2 + b ^2$\n",
    "\n",
    "1. 写一个函数，输入为一个列表，输出为一个新的列表，新列表中每一个元素为原列表中每一个元素求对数\n",
    "\n",
    "1. 写函数，传入一个参数n，返回n的阶乘\n",
    "\n",
    "1. 写函数，传入一个数字a和它的幂次b，计算$a^b$，如省略输入幂次，默认计算二次方（b=2）,例如\n",
    "`f(a = 1,b =2) = 1`\n",
    "`f(a = 2,b =2) = 4`\n",
    "`f(a = 2) = 4`\n",
    "\n",
    "1. 写函数，传入一个列表，和一个字符串，如果字符串是'reverse',则将原列表反向后输出，如果字符串是'normal',则将原列表原样输出。如果不输入字符串，默认'Normal'。例如\n",
    "`f([1,2,3],str = 'reverse') = [3,2,1]` ,\n",
    "`f([1,2,3],str = 'normal') = [1,2,3]`,\n",
    "`f([1,2,3]) = [1,2,3]`\n",
    "\n"
   ]
  },
  {
   "cell_type": "code",
   "execution_count": 1,
   "metadata": {
    "id": "A264496B7B0F4BA88E8EB8D1416C1C10",
    "jupyter": {},
    "scrolled": false,
    "slideshow": {
     "slide_type": "slide"
    },
    "tags": []
   },
   "outputs": [
    {
     "data": {
      "text/plain": [
       "(1, 8)"
      ]
     },
     "execution_count": 1,
     "metadata": {},
     "output_type": "execute_result"
    }
   ],
   "source": [
    "# 作业1\n",
    "def find_min_max(x):\n",
    "    return min(x),max(x)\n",
    "    \n",
    "find_min_max([1,4,5,6,8])"
   ]
  },
  {
   "cell_type": "code",
   "execution_count": 8,
   "metadata": {
    "id": "AAC5C68BA837458281184F9B763EEA0E",
    "jupyter": {},
    "scrolled": false,
    "slideshow": {
     "slide_type": "slide"
    },
    "tags": []
   },
   "outputs": [
    {
     "data": {
      "text/plain": [
       "0.75"
      ]
     },
     "execution_count": 8,
     "metadata": {},
     "output_type": "execute_result"
    }
   ],
   "source": [
    "# 作业2\n",
    "def cal_sum(n):\n",
    "    Sum = 0\n",
    "    if n % 2 == 0:\n",
    "        for i in range(2,n+1,2):\n",
    "            Sum += 1/i\n",
    "    else:\n",
    "        for i in range(1,n+1,2):\n",
    "            Sum += 1/i\n",
    "    return Sum\n",
    "\n",
    "cal_sum(4)"
   ]
  },
  {
   "cell_type": "code",
   "execution_count": 13,
   "metadata": {
    "id": "82DDEA7EFE364DE5AB4C0DF3CD43A6EA",
    "jupyter": {},
    "scrolled": false,
    "slideshow": {
     "slide_type": "slide"
    },
    "tags": []
   },
   "outputs": [
    {
     "data": {
      "text/plain": [
       "5"
      ]
     },
     "execution_count": 13,
     "metadata": {},
     "output_type": "execute_result"
    }
   ],
   "source": [
    "# 作业3\n",
    "f = lambda a,b : a**2+b**2\n",
    "\n",
    "f(1,2)"
   ]
  },
  {
   "cell_type": "code",
   "execution_count": 14,
   "metadata": {
    "id": "4EEAD4518F6C40218AAF2AA0421BBA8E",
    "jupyter": {},
    "scrolled": false,
    "slideshow": {
     "slide_type": "slide"
    },
    "tags": []
   },
   "outputs": [
    {
     "data": {
      "text/plain": [
       "[0.0, 0.6931471805599453, 1.0986122886681098]"
      ]
     },
     "execution_count": 14,
     "metadata": {},
     "output_type": "execute_result"
    }
   ],
   "source": [
    "# 作业4\n",
    "import math\n",
    "def cal_log(x):\n",
    "    new_list = []\n",
    "    for item in x:\n",
    "        new_list.append(math.log(item))\n",
    "    return new_list\n",
    "\n",
    "x = [1,2,3]\n",
    "cal_log(x)"
   ]
  },
  {
   "cell_type": "code",
   "execution_count": 18,
   "metadata": {
    "id": "9F4AE859D2534D608B2EA5DDA5D48577",
    "jupyter": {},
    "slideshow": {
     "slide_type": "slide"
    },
    "tags": []
   },
   "outputs": [
    {
     "data": {
      "text/plain": [
       "6"
      ]
     },
     "execution_count": 18,
     "metadata": {},
     "output_type": "execute_result"
    }
   ],
   "source": [
    "# 作业5\n",
    "def factorial(n):\n",
    "    if n == 1:\n",
    "        return 1\n",
    "    else:\n",
    "        return n* factorial(n-1)\n",
    "factorial(3)"
   ]
  },
  {
   "cell_type": "code",
   "execution_count": 19,
   "metadata": {
    "id": "EC5D192F66394F588CCAD3B65EC99B47",
    "jupyter": {},
    "scrolled": false,
    "slideshow": {
     "slide_type": "slide"
    },
    "tags": []
   },
   "outputs": [
    {
     "data": {
      "text/plain": [
       "4"
      ]
     },
     "execution_count": 19,
     "metadata": {},
     "output_type": "execute_result"
    }
   ],
   "source": [
    "# 作业6\n",
    "def f(a,b=2):\n",
    "    y = a**b\n",
    "    return y\n",
    "f(a=2)"
   ]
  },
  {
   "cell_type": "code",
   "execution_count": 24,
   "metadata": {
    "id": "EB25C4197E4C4959837F0AFF9EE59C82",
    "jupyter": {},
    "scrolled": false,
    "slideshow": {
     "slide_type": "slide"
    },
    "tags": []
   },
   "outputs": [
    {
     "data": {
      "text/plain": [
       "[3, 2, 1]"
      ]
     },
     "execution_count": 24,
     "metadata": {},
     "output_type": "execute_result"
    }
   ],
   "source": [
    "# 作业7\n",
    "def f(l,s='normal'):\n",
    "    if s == 'reverse':\n",
    "        return l[::-1]\n",
    "    elif s == 'normal':\n",
    "        return l\n",
    "f([1,2,3],s = 'reverse')"
   ]
  },
  {
   "cell_type": "code",
   "execution_count": 26,
   "metadata": {
    "id": "2A88BD338AFF46808944D97ED043DC65",
    "jupyter": {},
    "scrolled": false,
    "slideshow": {
     "slide_type": "slide"
    },
    "tags": []
   },
   "outputs": [
    {
     "data": {
      "text/plain": [
       "[1, 2, 3]"
      ]
     },
     "execution_count": 26,
     "metadata": {},
     "output_type": "execute_result"
    }
   ],
   "source": [
    "f([1,2,3],s = 'normal')"
   ]
  },
  {
   "cell_type": "code",
   "execution_count": 28,
   "metadata": {
    "id": "48A1364B0BFE400C8B4AD2788B36AAAE",
    "jupyter": {},
    "scrolled": false,
    "slideshow": {
     "slide_type": "slide"
    },
    "tags": []
   },
   "outputs": [
    {
     "data": {
      "text/plain": [
       "[1, 2, 3]"
      ]
     },
     "execution_count": 28,
     "metadata": {},
     "output_type": "execute_result"
    }
   ],
   "source": [
    "f([1,2,3])"
   ]
  }
 ],
 "metadata": {
  "kernelspec": {
   "display_name": "Python 3",
   "language": "python",
   "name": "python3"
  },
  "language_info": {
   "codemirror_mode": {
    "name": "ipython",
    "version": 3
   },
   "file_extension": ".py",
   "mimetype": "text/x-python",
   "name": "python",
   "nbconvert_exporter": "python",
   "pygments_lexer": "ipython3",
   "version": "3.8.3"
  }
 },
 "nbformat": 4,
 "nbformat_minor": 1
}
