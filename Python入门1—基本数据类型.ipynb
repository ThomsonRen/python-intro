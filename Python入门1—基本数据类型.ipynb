{
 "cells": [
  {
   "cell_type": "markdown",
   "metadata": {
    "id": "17C09AB9F316498585E76E2EBDA1214F",
    "jupyter": {
     "source_hidden": false
    },
    "mdEditEnable": false,
    "render": true,
    "slideshow": {
     "slide_type": "slide"
    },
    "tags": []
   },
   "source": [
    "# 数学建模基础课:Python入门(1)"
   ]
  },
  {
   "cell_type": "markdown",
   "metadata": {
    "id": "67E978032045481889F6778FF9912845",
    "jupyter": {},
    "mdEditEnable": false,
    "slideshow": {
     "slide_type": "slide"
    },
    "tags": []
   },
   "source": [
    "Cell 的两种格式：\n",
    "- **markdown:** 用于书写文本、公式、图片、链接等\n",
    "- **code**：编程代码"
   ]
  },
  {
   "cell_type": "markdown",
   "metadata": {},
   "source": [
    "<div class=\"alert alert-block alert-success\">\n",
    "想要运行一个代码段（cell），可以使用以下快捷键</br>\n",
    "    \n",
    "   \n",
    "- Ctrl+Enter </br>\n",
    "- Shift+Enter</br>\n",
    "    \n",
    "Now:轮到你了</br>\n",
    "</div>"
   ]
  },
  {
   "cell_type": "code",
   "execution_count": 1,
   "metadata": {
    "id": "E67BF0E3D10C494686D192C367DBF7CC",
    "jupyter": {},
    "scrolled": false,
    "slideshow": {
     "slide_type": "slide"
    },
    "tags": []
   },
   "outputs": [
    {
     "name": "stdout",
     "output_type": "stream",
     "text": [
      "Welcome to Python class! \n"
     ]
    }
   ],
   "source": [
    "print (\"Welcome to Python class! \")"
   ]
  },
  {
   "cell_type": "code",
   "execution_count": 2,
   "metadata": {
    "code_folding": [],
    "id": "A215EA6E36864AE788D1718EB6FF2CE2",
    "jupyter": {
     "source_hidden": false
    },
    "scrolled": false,
    "slideshow": {
     "slide_type": "slide"
    },
    "tags": []
   },
   "outputs": [
    {
     "data": {
      "text/plain": [
       "2"
      ]
     },
     "execution_count": 2,
     "metadata": {},
     "output_type": "execute_result"
    }
   ],
   "source": [
    "1+1"
   ]
  },
  {
   "cell_type": "markdown",
   "metadata": {
    "id": "ACECD18EEF1949B49C199573BA704458",
    "jupyter": {
     "source_hidden": false
    },
    "mdEditEnable": false,
    "slideshow": {
     "slide_type": "slide"
    },
    "tags": []
   },
   "source": [
    "<div class=\"alert alert-block alert-info\">\n",
    "    \n",
    "Python中的简单数学操作</br>\n",
    "    \n",
    "- 加法: 2 + 2</br>\n",
    "- 减法: 2 - 2</br>\n",
    "- 乘法: 2 * 2 </br>\n",
    "- 除法: 2 / 2 </br>\n",
    "- 幂: 2 ** 2 </br>\n",
    "</div>"
   ]
  },
  {
   "cell_type": "markdown",
   "metadata": {
    "id": "84ED50F988A54D0482F0F27DCDE54EB8",
    "jupyter": {
     "source_hidden": false
    },
    "mdEditEnable": false,
    "slideshow": {
     "slide_type": "slide"
    },
    "tags": []
   },
   "source": [
    "# Python中的变量"
   ]
  },
  {
   "cell_type": "markdown",
   "metadata": {
    "id": "029962406DF84F768AB3805FDCFA1214",
    "jupyter": {
     "source_hidden": false
    },
    "mdEditEnable": false,
    "slideshow": {
     "slide_type": "slide"
    },
    "tags": []
   },
   "source": [
    "<div class=\"alert alert-block alert-info\">\n",
    "<b>Tip：Python变量</b>  </br>\n",
    "    \n",
    "可以存储数值并可以重复使用，变量具有下面这些属性：</br>\n",
    "1. 变量不需要声明，python会自动声明</br>\n",
    "2. 变量可以存储一段代码的输出结果</br>\n",
    "3. 变量赋值可以使用等号（=），比如( x = 1) </br>\n",
    "</div>\n"
   ]
  },
  {
   "cell_type": "markdown",
   "metadata": {
    "id": "37A55A931F0D484AAC3D001A636FF684",
    "jupyter": {
     "source_hidden": false
    },
    "mdEditEnable": false,
    "slideshow": {
     "slide_type": "slide"
    },
    "tags": []
   },
   "source": [
    "我们可以把结果存储到变量中，这样我们就可以在之后继续使用。比如："
   ]
  },
  {
   "cell_type": "code",
   "execution_count": 5,
   "metadata": {
    "id": "083647A548FB4473834186D42B2154BC",
    "jupyter": {
     "source_hidden": false
    },
    "scrolled": false,
    "slideshow": {
     "slide_type": "slide"
    },
    "tags": []
   },
   "outputs": [
    {
     "data": {
      "text/plain": [
       "160"
      ]
     },
     "execution_count": 5,
     "metadata": {},
     "output_type": "execute_result"
    }
   ],
   "source": [
    "x = 43 + 60 + 16 + 41\n",
    "x"
   ]
  },
  {
   "cell_type": "markdown",
   "metadata": {
    "id": "C80E483A2B2E4F38B25B47654328FB7E",
    "jupyter": {
     "source_hidden": false
    },
    "mdEditEnable": false,
    "slideshow": {
     "slide_type": "slide"
    },
    "tags": []
   },
   "source": [
    "如果想要再次使用x的值，我们可以执行这个变量，或者使用print()方法"
   ]
  },
  {
   "cell_type": "code",
   "execution_count": 6,
   "metadata": {
    "id": "94DE740E7FB945B8A2887B12D04D225C",
    "jupyter": {},
    "scrolled": false,
    "slideshow": {
     "slide_type": "slide"
    },
    "tags": []
   },
   "outputs": [
    {
     "name": "stdout",
     "output_type": "stream",
     "text": [
      "160\n"
     ]
    }
   ],
   "source": [
    "print(x)"
   ]
  },
  {
   "cell_type": "code",
   "execution_count": 7,
   "metadata": {
    "id": "E25E8917A74246238DA99803D46B7962",
    "jupyter": {
     "source_hidden": false
    },
    "scrolled": false,
    "slideshow": {
     "slide_type": "slide"
    },
    "tags": []
   },
   "outputs": [
    {
     "name": "stdout",
     "output_type": "stream",
     "text": [
      "2.6666666666666665\n"
     ]
    }
   ],
   "source": [
    "total_hr = (43 + 60 + 16 + 41) / 60  # get total_hr in a single expression\n",
    "print(total_hr) # 打印结果"
   ]
  },
  {
   "cell_type": "markdown",
   "metadata": {
    "id": "37E93C68D01145359150E15A6E74E2E2",
    "jupyter": {
     "source_hidden": false
    },
    "mdEditEnable": false,
    "slideshow": {
     "slide_type": "slide"
    },
    "tags": []
   },
   "source": [
    "Tip：注释\n",
    "    \n",
    "上述注释（`# get total hours in a single expression`）。\n",
    "1. 注释起到了描述代码的作用，输入#符号，在它的后面输入注释。\n",
    "1. 注释不会被当成代码，是不会被执行的。\n",
    "1. 你可以使用单行注释说明某一步程序的操作；\n",
    "1. 也可以使用多行注释来说明一部分代码的整体含义或者相关的内容(在Jupyter Notebook中不支持)。"
   ]
  },
  {
   "cell_type": "markdown",
   "metadata": {
    "id": "E02BF826AF1D46F49E165A8DF185FACA",
    "jupyter": {
     "source_hidden": false
    },
    "mdEditEnable": false,
    "slideshow": {
     "slide_type": "slide"
    },
    "tags": []
   },
   "source": [
    "**如何删除变量?**"
   ]
  },
  {
   "cell_type": "code",
   "execution_count": 8,
   "metadata": {
    "id": "B78DBAB37E1547ED9D970221FC1ECF5C",
    "jupyter": {
     "source_hidden": false
    },
    "scrolled": false,
    "slideshow": {
     "slide_type": "slide"
    },
    "tags": []
   },
   "outputs": [
    {
     "ename": "NameError",
     "evalue": "name 'total_hr' is not defined",
     "output_type": "error",
     "traceback": [
      "\u001b[1;31m---------------------------------------------------------------------------\u001b[0m",
      "\u001b[1;31mNameError\u001b[0m                                 Traceback (most recent call last)",
      "\u001b[1;32m<ipython-input-8-87c8b5c556b5>\u001b[0m in \u001b[0;36m<module>\u001b[1;34m\u001b[0m\n\u001b[0;32m      1\u001b[0m \u001b[1;32mdel\u001b[0m \u001b[0mtotal_hr\u001b[0m\u001b[1;33m\u001b[0m\u001b[1;33m\u001b[0m\u001b[0m\n\u001b[1;32m----> 2\u001b[1;33m \u001b[0mtotal_hr\u001b[0m\u001b[1;33m\u001b[0m\u001b[1;33m\u001b[0m\u001b[0m\n\u001b[0m",
      "\u001b[1;31mNameError\u001b[0m: name 'total_hr' is not defined"
     ]
    }
   ],
   "source": [
    "del total_hr\n",
    "total_hr"
   ]
  },
  {
   "cell_type": "markdown",
   "metadata": {
    "id": "889718F676D946EA9E822887559CFE88",
    "jupyter": {
     "source_hidden": false
    },
    "mdEditEnable": false,
    "slideshow": {
     "slide_type": "slide"
    },
    "tags": []
   },
   "source": [
    "***Tip：Python变量删除后就不能再调用***"
   ]
  },
  {
   "cell_type": "markdown",
   "metadata": {
    "id": "72B8E089DE8B4F4F8518CBACEC40640C",
    "jupyter": {
     "source_hidden": false
    },
    "mdEditEnable": false,
    "slideshow": {
     "slide_type": "slide"
    },
    "tags": []
   },
   "source": [
    "**变量命名规则**\n",
    "* 第一个字符必须是字母表中字母或下划线 _ 。\n",
    "* 不能使用**保留字**。\n",
    "* 标识符的其他的部分由字母、数字和下划线组成。\n",
    "* 标识符对**大小写敏感**。"
   ]
  },
  {
   "cell_type": "code",
   "execution_count": 9,
   "metadata": {
    "id": "7947CCF8B02647DB9C85F5C799595AC2",
    "jupyter": {
     "source_hidden": false
    },
    "scrolled": false,
    "slideshow": {
     "slide_type": "slide"
    },
    "tags": []
   },
   "outputs": [
    {
     "ename": "SyntaxError",
     "evalue": "invalid syntax (<ipython-input-9-b29d97cf0e61>, line 1)",
     "output_type": "error",
     "traceback": [
      "\u001b[1;36m  File \u001b[1;32m\"<ipython-input-9-b29d97cf0e61>\"\u001b[1;36m, line \u001b[1;32m1\u001b[0m\n\u001b[1;33m    1x = 1\u001b[0m\n\u001b[1;37m     ^\u001b[0m\n\u001b[1;31mSyntaxError\u001b[0m\u001b[1;31m:\u001b[0m invalid syntax\n"
     ]
    }
   ],
   "source": [
    "1x = 1"
   ]
  },
  {
   "cell_type": "code",
   "execution_count": 10,
   "metadata": {
    "id": "FB39AB8FCEAB4BC68D4ACF95C4818417",
    "jupyter": {
     "source_hidden": false
    },
    "scrolled": false,
    "slideshow": {
     "slide_type": "slide"
    },
    "tags": []
   },
   "outputs": [
    {
     "ename": "SyntaxError",
     "evalue": "invalid syntax (<ipython-input-10-f76ce0fc3d08>, line 1)",
     "output_type": "error",
     "traceback": [
      "\u001b[1;36m  File \u001b[1;32m\"<ipython-input-10-f76ce0fc3d08>\"\u001b[1;36m, line \u001b[1;32m1\u001b[0m\n\u001b[1;33m    import = 1\u001b[0m\n\u001b[1;37m           ^\u001b[0m\n\u001b[1;31mSyntaxError\u001b[0m\u001b[1;31m:\u001b[0m invalid syntax\n"
     ]
    }
   ],
   "source": [
    "import = 1"
   ]
  },
  {
   "cell_type": "markdown",
   "metadata": {
    "id": "D61541109BED44379E5E9E35803AD2BF",
    "jupyter": {},
    "mdEditEnable": false,
    "slideshow": {
     "slide_type": "slide"
    },
    "tags": []
   },
   "source": [
    "那么，有哪些保留字呢？\n",
    "\n",
    "下面的指令可以用来显示当前版本Python保留字的内容。"
   ]
  },
  {
   "cell_type": "code",
   "execution_count": 2,
   "metadata": {
    "id": "1A120D1F3B7E4970B8BFBDBE2EC2AFEF",
    "jupyter": {
     "source_hidden": false
    },
    "scrolled": false,
    "slideshow": {
     "slide_type": "slide"
    },
    "tags": []
   },
   "outputs": [
    {
     "data": {
      "text/plain": [
       "['False',\n",
       " 'None',\n",
       " 'True',\n",
       " 'and',\n",
       " 'as',\n",
       " 'assert',\n",
       " 'async',\n",
       " 'await',\n",
       " 'break',\n",
       " 'class',\n",
       " 'continue',\n",
       " 'def',\n",
       " 'del',\n",
       " 'elif',\n",
       " 'else',\n",
       " 'except',\n",
       " 'finally',\n",
       " 'for',\n",
       " 'from',\n",
       " 'global',\n",
       " 'if',\n",
       " 'import',\n",
       " 'in',\n",
       " 'is',\n",
       " 'lambda',\n",
       " 'nonlocal',\n",
       " 'not',\n",
       " 'or',\n",
       " 'pass',\n",
       " 'raise',\n",
       " 'return',\n",
       " 'try',\n",
       " 'while',\n",
       " 'with',\n",
       " 'yield']"
      ]
     },
     "execution_count": 2,
     "metadata": {},
     "output_type": "execute_result"
    }
   ],
   "source": [
    "import keyword\n",
    "keyword.kwlist"
   ]
  },
  {
   "cell_type": "markdown",
   "metadata": {
    "id": "30B849D8DA8248049110C449B8133CE5",
    "jupyter": {
     "source_hidden": false
    },
    "mdEditEnable": false,
    "slideshow": {
     "slide_type": "slide"
    },
    "tags": []
   },
   "source": [
    "# Python中的标准数据类型"
   ]
  },
  {
   "cell_type": "markdown",
   "metadata": {
    "id": "1E115F1F800540BCA8623671E37EAB24",
    "jupyter": {},
    "mdEditEnable": false,
    "slideshow": {
     "slide_type": "slide"
    },
    "tags": []
   },
   "source": [
    "**如下图所示，Python3中的变量有6种标准数据类型:**"
   ]
  },
  {
   "cell_type": "markdown",
   "metadata": {
    "id": "15C966E492F9470AB19809565F1AA385",
    "jupyter": {},
    "mdEditEnable": false,
    "slideshow": {
     "slide_type": "slide"
    },
    "tags": []
   },
   "source": [
    "\n",
    "![Image Name](https://cdn.kesci.com/upload/image/q61z3btprj.png?imageView2/0/w/640/h/640)\n"
   ]
  },
  {
   "cell_type": "markdown",
   "metadata": {
    "id": "A16E584E762240CE8A63266FC216AE6B",
    "jupyter": {},
    "mdEditEnable": false,
    "slideshow": {
     "slide_type": "slide"
    },
    "tags": []
   },
   "source": [
    "可以用`type`函数，查看某一个变量的类型。"
   ]
  },
  {
   "cell_type": "code",
   "execution_count": 11,
   "metadata": {
    "id": "B3C41ED63E70444CB1EAEDA9C8D524E5",
    "jupyter": {},
    "scrolled": false,
    "slideshow": {
     "slide_type": "slide"
    },
    "tags": []
   },
   "outputs": [
    {
     "data": {
      "text/plain": [
       "int"
      ]
     },
     "execution_count": 11,
     "metadata": {},
     "output_type": "execute_result"
    }
   ],
   "source": [
    "a = 1\n",
    "type(a)"
   ]
  },
  {
   "cell_type": "markdown",
   "metadata": {
    "id": "D848684C60AA44D582D99CDA69A45F8F",
    "jupyter": {
     "source_hidden": false
    },
    "mdEditEnable": false,
    "slideshow": {
     "slide_type": "slide"
    },
    "tags": []
   },
   "source": [
    "也可以用isinstance函数，查看一个变量的类型是不是想要的类型。"
   ]
  },
  {
   "cell_type": "code",
   "execution_count": 12,
   "metadata": {
    "id": "DFBDB72DF3634C66AB581CDBE338C03D",
    "jupyter": {
     "source_hidden": false
    },
    "scrolled": false,
    "slideshow": {
     "slide_type": "slide"
    },
    "tags": []
   },
   "outputs": [
    {
     "data": {
      "text/plain": [
       "True"
      ]
     },
     "execution_count": 12,
     "metadata": {},
     "output_type": "execute_result"
    }
   ],
   "source": [
    "a = 1\n",
    "isinstance(a, int)"
   ]
  },
  {
   "cell_type": "code",
   "execution_count": 13,
   "metadata": {
    "id": "2EECB3ECED564121BC013AC9C7583969",
    "jupyter": {
     "source_hidden": false
    },
    "scrolled": false,
    "slideshow": {
     "slide_type": "slide"
    },
    "tags": []
   },
   "outputs": [
    {
     "data": {
      "text/plain": [
       "False"
      ]
     },
     "execution_count": 13,
     "metadata": {},
     "output_type": "execute_result"
    }
   ],
   "source": [
    "isinstance(a, str)"
   ]
  },
  {
   "cell_type": "markdown",
   "metadata": {
    "id": "50C97944B44B4D2895596ACD6EC5EA83",
    "jupyter": {},
    "mdEditEnable": false,
    "slideshow": {
     "slide_type": "slide"
    },
    "tags": []
   },
   "source": [
    "**轮到你了：**\n",
    "\n",
    "生成一个字符串‘python’,分别使用`type`和`isinstance`方法，判断其数据类型。"
   ]
  },
  {
   "cell_type": "code",
   "execution_count": null,
   "metadata": {
    "id": "84572EBBD99146A88092CDFCC75AE0DA",
    "jupyter": {},
    "slideshow": {
     "slide_type": "slide"
    },
    "tags": []
   },
   "outputs": [],
   "source": []
  },
  {
   "cell_type": "markdown",
   "metadata": {
    "id": "8388197F91774A9C8134BFD7D3B9BCF2",
    "jupyter": {},
    "mdEditEnable": false,
    "slideshow": {
     "slide_type": "slide"
    },
    "tags": []
   },
   "source": [
    "## Numbers（数字）\n",
    "\n",
    "数字型用于存储数值。Python支持四种不同的数字类型：\n",
    "\n",
    "- int（有符号整型）：可以是正整数或负整数，不带小数点。\n",
    "- float（浮点型）：浮点型由整数部分与小数部分组成\n",
    "- bool （布尔型）：变量取值为True或False\n",
    "- complex（复数）：复数由实数部分和虚数部分构成，可以用a + bj,或者complex(a,b)表示， 复数的实部a和虚部b都是浮点型。"
   ]
  },
  {
   "cell_type": "markdown",
   "metadata": {
    "id": "59CB6CC14A704BAA8D887FBAECE73795",
    "jupyter": {},
    "mdEditEnable": false,
    "slideshow": {
     "slide_type": "slide"
    },
    "tags": []
   },
   "source": [
    "当你指定一个值时，Number对象就会被创建："
   ]
  },
  {
   "cell_type": "code",
   "execution_count": 14,
   "metadata": {
    "id": "F70799206C014E989F28858390C8DC98",
    "jupyter": {},
    "scrolled": false,
    "slideshow": {
     "slide_type": "slide"
    },
    "tags": []
   },
   "outputs": [
    {
     "data": {
      "text/plain": [
       "int"
      ]
     },
     "execution_count": 14,
     "metadata": {},
     "output_type": "execute_result"
    }
   ],
   "source": [
    "a = 30 # 整数默认用整形\n",
    "type(a)"
   ]
  },
  {
   "cell_type": "code",
   "execution_count": 15,
   "metadata": {
    "id": "23C6107DAE7F4B9D88B25AFCB20BC063",
    "jupyter": {},
    "scrolled": false,
    "slideshow": {
     "slide_type": "slide"
    },
    "tags": []
   },
   "outputs": [
    {
     "data": {
      "text/plain": [
       "float"
      ]
     },
     "execution_count": 15,
     "metadata": {},
     "output_type": "execute_result"
    }
   ],
   "source": [
    "b = 10.2 # 小数默认用浮点型\n",
    "type(b)"
   ]
  },
  {
   "cell_type": "code",
   "execution_count": 16,
   "metadata": {
    "id": "51B6E7E2096A4B879575031052AFB49D",
    "jupyter": {},
    "scrolled": false,
    "slideshow": {
     "slide_type": "slide"
    },
    "tags": []
   },
   "outputs": [
    {
     "data": {
      "text/plain": [
       "bool"
      ]
     },
     "execution_count": 16,
     "metadata": {},
     "output_type": "execute_result"
    }
   ],
   "source": [
    "c = True \n",
    "type(c)"
   ]
  },
  {
   "cell_type": "markdown",
   "metadata": {
    "id": "1D91255A0E4445DCA03EAA68286377CC",
    "jupyter": {},
    "mdEditEnable": false,
    "slideshow": {
     "slide_type": "slide"
    },
    "tags": []
   },
   "source": [
    "**注意：**Python只把 `True` and `False` 识别为表示真或假的值，这意味着其他的写法都是不合法的，比如 *TRUE* 和 *true*都是不会被Python识别为逻辑值。"
   ]
  },
  {
   "cell_type": "code",
   "execution_count": 17,
   "metadata": {
    "id": "CC65A03C9BEB4CD98319374377235F49",
    "jupyter": {},
    "scrolled": false,
    "slideshow": {
     "slide_type": "slide"
    },
    "tags": []
   },
   "outputs": [
    {
     "data": {
      "text/plain": [
       "complex"
      ]
     },
     "execution_count": 17,
     "metadata": {},
     "output_type": "execute_result"
    }
   ],
   "source": [
    "d = 2 + 2j # 分别制定实部和虚部即可,j是虚数单位\n",
    "type(d)"
   ]
  },
  {
   "cell_type": "markdown",
   "metadata": {
    "id": "0F3374E31E284A2CB2F68BCF48106386",
    "jupyter": {
     "source_hidden": false
    },
    "mdEditEnable": false,
    "slideshow": {
     "slide_type": "slide"
    },
    "tags": []
   },
   "source": [
    "## String（字符串）\n",
    "\n",
    "Python中用一对双引号(`\" \"`)或者单引号(`''`)括住的就是字符串。\n",
    "Python并非只能处理各类数字，它还可以处理字符串。字符串的例子如下:"
   ]
  },
  {
   "cell_type": "code",
   "execution_count": 18,
   "metadata": {
    "id": "79DE14036DB549BA8CA3BE979057D5CD",
    "jupyter": {
     "source_hidden": false
    },
    "scrolled": false,
    "slideshow": {
     "slide_type": "slide"
    },
    "tags": []
   },
   "outputs": [
    {
     "name": "stdout",
     "output_type": "stream",
     "text": [
      "Thriller\n"
     ]
    }
   ],
   "source": [
    "album = 'Thriller'\n",
    "print(album)"
   ]
  },
  {
   "cell_type": "code",
   "execution_count": 19,
   "metadata": {
    "id": "3540FA5FA124425CA38EFFB3F414E6BC",
    "jupyter": {
     "source_hidden": false
    },
    "scrolled": false,
    "slideshow": {
     "slide_type": "slide"
    },
    "tags": []
   },
   "outputs": [
    {
     "data": {
      "text/plain": [
       "str"
      ]
     },
     "execution_count": 19,
     "metadata": {},
     "output_type": "execute_result"
    }
   ],
   "source": [
    "type(album)"
   ]
  },
  {
   "cell_type": "markdown",
   "metadata": {},
   "source": [
    "**字符串更多用法**，\n",
    "请参考[这里](https://www.runoob.com/python3/python3-built-in-functions.html)。"
   ]
  },
  {
   "cell_type": "markdown",
   "metadata": {
    "id": "2AE2E5D0BF0A49E18A492597B6923EF9",
    "jupyter": {
     "source_hidden": false
    },
    "mdEditEnable": false,
    "slideshow": {
     "slide_type": "slide"
    },
    "tags": []
   },
   "source": [
    "***思考: 数据类型意味着什么？***  \n",
    "\n",
    "在包括Python在内的各种编程语言中，都会提到所支持的数据类型，那么，数据类型意味着什么呢？\n",
    "- 数据类型说明了变量在内存中的表示形式，以及对该变量所能执行的操作。\n",
    "- 对Python而言，其解释器会根据变量的数据类型来解释其在内存中所存储的值，例如，如果内存中存储的是整数型变量，解释器就会将其解释为一个整数；如果存储的是字符串变量，解释器就会将其解释为一个字符串。"
   ]
  },
  {
   "cell_type": "markdown",
   "metadata": {
    "id": "A8C8B8924ACA41C38AC18DA999F825CD",
    "jupyter": {},
    "mdEditEnable": false,
    "scrolled": false,
    "slideshow": {
     "slide_type": "slide"
    },
    "tags": []
   },
   "source": [
    "## List（列表）"
   ]
  },
  {
   "cell_type": "markdown",
   "metadata": {
    "id": "8F367966041247C2A5EC8F96F1BD8786",
    "jupyter": {
     "source_hidden": false
    },
    "mdEditEnable": false,
    "slideshow": {
     "slide_type": "slide"
    },
    "tags": []
   },
   "source": [
    "一个列表可以由多个不同的对象组成，比如向量、数值、字符甚至其他列表。你可以把列表当成一个由关联信息构成的，且结构良好易于读取的容器。\n",
    "\n",
    "列表的每个元素都有索引（序号）：第一个元素是0，第二个元素是1，依次类推。\n",
    "\n",
    "你可以从list中删除元素，也可以在list的末尾添加元素。list有如下特性:\n",
    "- 用途最为广泛的数据类型\n",
    "- 元素由逗号分隔，整个列表由中括号包围[ ]。\n",
    "- 列表的元素可以用切片操作符（[ ]和[:]）来访问\n",
    "- 列表的索引从0开始\n",
    "- 加号'+'是列表连接操作符\n",
    "\n"
   ]
  },
  {
   "cell_type": "markdown",
   "metadata": {
    "id": "9B7356A2BDB9434792A49773A01C7BF1",
    "jupyter": {},
    "mdEditEnable": false,
    "slideshow": {
     "slide_type": "slide"
    },
    "tags": []
   },
   "source": [
    "### 列表的生成"
   ]
  },
  {
   "cell_type": "markdown",
   "metadata": {
    "id": "D22686BDFB7D4A60B794456749E17F5C",
    "jupyter": {
     "source_hidden": false
    },
    "mdEditEnable": false,
    "slideshow": {
     "slide_type": "slide"
    },
    "tags": []
   },
   "source": [
    "现在假设我们有4张专辑的发售年份为(1982, 1980, 1973, 1992)，我们需要把它赋值到单个变量中，即一个数值型列表变量。"
   ]
  },
  {
   "cell_type": "code",
   "execution_count": 20,
   "metadata": {
    "id": "EB5784CA641F4E4591CACAA96AB16692",
    "jupyter": {
     "source_hidden": false
    },
    "scrolled": false,
    "slideshow": {
     "slide_type": "slide"
    },
    "tags": []
   },
   "outputs": [
    {
     "name": "stdout",
     "output_type": "stream",
     "text": [
      "[1982, 1980, 1973, 1992]\n"
     ]
    },
    {
     "data": {
      "text/plain": [
       "1982"
      ]
     },
     "execution_count": 20,
     "metadata": {},
     "output_type": "execute_result"
    }
   ],
   "source": [
    "Released_dates = [1982,1980,1973,1992]\n",
    "print(Released_dates)\n",
    "Released_dates[0]"
   ]
  },
  {
   "cell_type": "markdown",
   "metadata": {
    "id": "F7B47DC506614BC6A706C4D678443F83",
    "jupyter": {
     "source_hidden": false
    },
    "mdEditEnable": false,
    "slideshow": {
     "slide_type": "slide"
    },
    "tags": []
   },
   "source": [
    "如前所述，list是一个序列，序列中的每一个元素在该序列中都有一个序号，序号从0开始计数。"
   ]
  },
  {
   "cell_type": "markdown",
   "metadata": {
    "id": "A75C1223A4C94183846B3CD87C48C091",
    "jupyter": {
     "source_hidden": false
    },
    "mdEditEnable": false,
    "slideshow": {
     "slide_type": "slide"
    },
    "tags": []
   },
   "source": [
    "### 列表的连接\n",
    "连接是指将事物按照顺序放在一起的过程，对列表和字典的操作就是如此。只需使用**+**操作符即可实现连接。看一看下面这个例子："
   ]
  },
  {
   "cell_type": "code",
   "execution_count": 21,
   "metadata": {
    "id": "396AB69428C8468EA29D1656D41FB5F0",
    "jupyter": {
     "source_hidden": false
    },
    "slideshow": {
     "slide_type": "slide"
    },
    "tags": []
   },
   "outputs": [
    {
     "data": {
      "text/plain": [
       "['Dangerous', 'HIStory', 'Thriller', 'Bad']"
      ]
     },
     "execution_count": 21,
     "metadata": {},
     "output_type": "execute_result"
    }
   ],
   "source": [
    "album_titles1 = [\"Thriller\", \"Bad\"]\n",
    "album_titles2 = [\"Dangerous\", \"HIStory\"]\n",
    "album_titles2 + album_titles1"
   ]
  },
  {
   "cell_type": "code",
   "execution_count": 109,
   "metadata": {
    "id": "5E80A14EA6754B3199C1074C0CE81BFC",
    "jupyter": {},
    "scrolled": false,
    "slideshow": {
     "slide_type": "slide"
    },
    "tags": []
   },
   "outputs": [
    {
     "name": "stdout",
     "output_type": "stream",
     "text": [
      "[6, 66, 666, 9, 9, 999, 9999]\n"
     ]
    }
   ],
   "source": [
    "b= [6,66,666] + [9,9,999,9999]\n",
    "print(b)"
   ]
  },
  {
   "cell_type": "code",
   "execution_count": 110,
   "metadata": {
    "id": "4D8AB2AB042F4FA49E76BB96BC61FB77",
    "jupyter": {},
    "scrolled": false,
    "slideshow": {
     "slide_type": "slide"
    },
    "tags": []
   },
   "outputs": [
    {
     "data": {
      "text/plain": [
       "[1, 2, 3, 'a', 'b', 'c']"
      ]
     },
     "execution_count": 110,
     "metadata": {},
     "output_type": "execute_result"
    }
   ],
   "source": [
    "[1,2,3] + ['a','b','c']"
   ]
  },
  {
   "cell_type": "markdown",
   "metadata": {
    "id": "D98B7E07BDBC47778E1E36163335327C",
    "jupyter": {
     "source_hidden": false
    },
    "mdEditEnable": false,
    "slideshow": {
     "slide_type": "slide"
    },
    "tags": []
   },
   "source": [
    "### 往列表中添加新的元素"
   ]
  },
  {
   "cell_type": "code",
   "execution_count": 111,
   "metadata": {
    "id": "8DC2961B21A84CBD86823172614CF8AC",
    "jupyter": {
     "source_hidden": false
    },
    "scrolled": false,
    "slideshow": {
     "slide_type": "slide"
    },
    "tags": []
   },
   "outputs": [
    {
     "name": "stdout",
     "output_type": "stream",
     "text": [
      "[1, 2, 3, 4]\n",
      "[1, 2, 3, 4, 6]\n"
     ]
    }
   ],
   "source": [
    "test = [1,2,3,4]\n",
    "print(test)\n",
    "\n",
    "test.append(6)\n",
    "print(test)"
   ]
  },
  {
   "cell_type": "code",
   "execution_count": null,
   "metadata": {
    "id": "6B2020713DE545CF8FB9ACFAE0F53B1A",
    "jupyter": {},
    "slideshow": {
     "slide_type": "slide"
    },
    "tags": []
   },
   "outputs": [],
   "source": []
  },
  {
   "cell_type": "markdown",
   "metadata": {
    "id": "620DB42016DC4F8F8365A4955716CEAD",
    "jupyter": {
     "source_hidden": false
    },
    "mdEditEnable": false,
    "slideshow": {
     "slide_type": "slide"
    },
    "tags": []
   },
   "source": [
    "***Tip：append将元素添加到末尾。***"
   ]
  },
  {
   "cell_type": "code",
   "execution_count": 113,
   "metadata": {
    "id": "99568C6FC1BD429A953A1CEEE4351286",
    "jupyter": {
     "source_hidden": false
    },
    "scrolled": false,
    "slideshow": {
     "slide_type": "slide"
    },
    "tags": []
   },
   "outputs": [
    {
     "data": {
      "text/plain": [
       "[1, 2, 1965, 3, 4, 6]"
      ]
     },
     "execution_count": 113,
     "metadata": {},
     "output_type": "execute_result"
    }
   ],
   "source": [
    "test.insert(2,1965)\n",
    "test"
   ]
  },
  {
   "cell_type": "markdown",
   "metadata": {
    "id": "E198B1DF53364C368AE4B6118C07A85E",
    "jupyter": {
     "source_hidden": false
    },
    "mdEditEnable": false,
    "slideshow": {
     "slide_type": "slide"
    },
    "tags": []
   },
   "source": [
    "***Tip：insert将元素添加到对应的位置上。***"
   ]
  },
  {
   "cell_type": "markdown",
   "metadata": {
    "id": "2A3C9AE729E0473787951EA9E39F1100",
    "jupyter": {
     "source_hidden": false
    },
    "mdEditEnable": false,
    "slideshow": {
     "slide_type": "slide"
    },
    "tags": []
   },
   "source": [
    "### 列表的切片访问"
   ]
  },
  {
   "cell_type": "markdown",
   "metadata": {
    "id": "FD60CD3C5BA848BE9E097E87AB47DFC3",
    "jupyter": {
     "source_hidden": false
    },
    "mdEditEnable": false,
    "slideshow": {
     "slide_type": "slide"
    },
    "tags": []
   },
   "source": [
    "Python允许一次获得list中的多个元素，其格式为[start:end]。如果中括号内是单个具体的位置，那就表示只想获取一个元素。"
   ]
  },
  {
   "cell_type": "code",
   "execution_count": 114,
   "metadata": {
    "id": "C783ADF31756498687421192CD52B417",
    "jupyter": {
     "source_hidden": false
    },
    "scrolled": false,
    "slideshow": {
     "slide_type": "slide"
    },
    "tags": []
   },
   "outputs": [
    {
     "name": "stdout",
     "output_type": "stream",
     "text": [
      "1\n"
     ]
    }
   ],
   "source": [
    "a = [1,2,3,4]\n",
    "first_element = a[0]\n",
    "print(first_element)"
   ]
  },
  {
   "cell_type": "markdown",
   "metadata": {
    "id": "9C441636725947DA89AACFBBD6C2547D",
    "jupyter": {
     "source_hidden": false
    },
    "mdEditEnable": false,
    "slideshow": {
     "slide_type": "slide"
    },
    "tags": []
   },
   "source": [
    "我们可以用索引值获取前几个元素，如下："
   ]
  },
  {
   "cell_type": "code",
   "execution_count": 115,
   "metadata": {
    "id": "55618C0378514D84899C20E200F8C7BA",
    "jupyter": {
     "source_hidden": false
    },
    "scrolled": false,
    "slideshow": {
     "slide_type": "slide"
    },
    "tags": []
   },
   "outputs": [
    {
     "data": {
      "text/plain": [
       "[1, 2]"
      ]
     },
     "execution_count": 115,
     "metadata": {},
     "output_type": "execute_result"
    }
   ],
   "source": [
    "a = [1,2,3,4]\n",
    "first_few_elements = a[0:2] # 这里的[0:2]代表从0开始，到2结束。注意左闭右开（即右侧不取）\n",
    "first_few_elements"
   ]
  },
  {
   "cell_type": "markdown",
   "metadata": {
    "id": "3F4A5C76C97A43C4B12C5C8B071461D5",
    "jupyter": {
     "source_hidden": false
    },
    "mdEditEnable": false,
    "slideshow": {
     "slide_type": "slide"
    },
    "tags": []
   },
   "source": [
    "我们也可以获取最后几个元素，如下"
   ]
  },
  {
   "cell_type": "code",
   "execution_count": 116,
   "metadata": {
    "id": "0948E28F41F44C648C001062099189FD",
    "jupyter": {
     "source_hidden": false
    },
    "scrolled": false,
    "slideshow": {
     "slide_type": "slide"
    },
    "tags": []
   },
   "outputs": [
    {
     "data": {
      "text/plain": [
       "[2, 3, 4]"
      ]
     },
     "execution_count": 116,
     "metadata": {},
     "output_type": "execute_result"
    }
   ],
   "source": [
    "last_element = a[-3:] # 从倒数第三个元素开始，到最后一个元素为止，这里的结尾不写就是直到尽头的意思\n",
    "last_element"
   ]
  },
  {
   "cell_type": "markdown",
   "metadata": {
    "id": "B317602526B14E3AB725194A3540420E",
    "jupyter": {},
    "mdEditEnable": false,
    "slideshow": {
     "slide_type": "slide"
    },
    "tags": []
   },
   "source": [
    "索引方法：\n",
    "\n",
    "`[start:end:step]`\n",
    "\n",
    "`[起:止:步长]`\n",
    "\n",
    "例如\n",
    "- [1:6:2] : 从1元素开始（包含），到6元素结束（不包含）,以2为步长\n",
    "- [6:1:-2] : 从6元素开始（包含），到1元素结束（不包含）,以-2为步长\n",
    "\n",
    "省略不写的话，默认从列表首个元素开始，以1为步长，最后一个元素为止。\n",
    "- [::] 所有的元素\n",
    "- [:] 所有的元素\n",
    "- [2: ] 从2位置开始向后所有的元素\n",
    "- [ :-2] 从首个元素开始，到倒数第二个元素前为止（不包含）\n"
   ]
  },
  {
   "cell_type": "code",
   "execution_count": 29,
   "metadata": {
    "id": "977889B078C14B84A3810571832EA862",
    "jupyter": {},
    "scrolled": false,
    "slideshow": {
     "slide_type": "slide"
    },
    "tags": []
   },
   "outputs": [
    {
     "data": {
      "text/plain": [
       "[2, 5]"
      ]
     },
     "execution_count": 29,
     "metadata": {},
     "output_type": "execute_result"
    }
   ],
   "source": [
    "a = [1,2,3,4,5,6,7,8,9]\n",
    "a[1:7:3]"
   ]
  },
  {
   "cell_type": "code",
   "execution_count": 30,
   "metadata": {
    "id": "5ECC3B87805E40389450C75679FA79D0",
    "jupyter": {},
    "slideshow": {
     "slide_type": "slide"
    },
    "tags": []
   },
   "outputs": [
    {
     "data": {
      "text/plain": [
       "[1, 2, 3, 4, 5, 6]"
      ]
     },
     "execution_count": 30,
     "metadata": {},
     "output_type": "execute_result"
    }
   ],
   "source": [
    "a[:-3]"
   ]
  },
  {
   "cell_type": "markdown",
   "metadata": {
    "id": "F18D8F73BAFE4BDDBC5236051258A21B",
    "jupyter": {
     "source_hidden": false
    },
    "mdEditEnable": false,
    "slideshow": {
     "slide_type": "slide"
    },
    "tags": []
   },
   "source": [
    "### 列表排序与查找"
   ]
  },
  {
   "cell_type": "markdown",
   "metadata": {
    "id": "66CEB1F14ADA4F0583E0EC5D21B253EC",
    "jupyter": {
     "source_hidden": false
    },
    "mdEditEnable": false,
    "slideshow": {
     "slide_type": "slide"
    },
    "tags": []
   },
   "source": [
    "我们可以对列表排序"
   ]
  },
  {
   "cell_type": "code",
   "execution_count": 117,
   "metadata": {
    "id": "921FFF9C29894A619EF5ED283E997C42",
    "jupyter": {
     "source_hidden": false
    },
    "scrolled": false,
    "slideshow": {
     "slide_type": "slide"
    },
    "tags": []
   },
   "outputs": [
    {
     "data": {
      "text/plain": [
       "[11, 22, 33, 44]"
      ]
     },
     "execution_count": 117,
     "metadata": {},
     "output_type": "execute_result"
    }
   ],
   "source": [
    "test = [11,44,22,33]\n",
    "test.sort(reverse=False) # 这里的sort是python内置的函数，我们这里直接调用\n",
    "test"
   ]
  },
  {
   "cell_type": "markdown",
   "metadata": {
    "id": "32A894D8144C4DCF8E7BD9911FC654EB",
    "jupyter": {
     "source_hidden": false
    },
    "mdEditEnable": false,
    "slideshow": {
     "slide_type": "slide"
    },
    "tags": []
   },
   "source": [
    "如果想要获取一个list中的最大值和最小值，可以使用**`min()`** 和 **`max()`** 函数"
   ]
  },
  {
   "cell_type": "code",
   "execution_count": 119,
   "metadata": {
    "id": "361EF36EC7254323880EB51277FFA8D0",
    "jupyter": {
     "source_hidden": false
    },
    "scrolled": false,
    "slideshow": {
     "slide_type": "slide"
    },
    "tags": []
   },
   "outputs": [
    {
     "name": "stdout",
     "output_type": "stream",
     "text": [
      "11 44\n"
     ]
    }
   ],
   "source": [
    "minimum = min(test)\n",
    "maximum = max(test)\n",
    "\n",
    "print (minimum,maximum)  # print还可以同时print 2个变量，试试能不能print更多？"
   ]
  },
  {
   "cell_type": "code",
   "execution_count": 120,
   "metadata": {
    "id": "873C93645CB94E77802F8B6BA0653310",
    "jupyter": {},
    "scrolled": false,
    "slideshow": {
     "slide_type": "slide"
    },
    "tags": []
   },
   "outputs": [
    {
     "name": "stdout",
     "output_type": "stream",
     "text": [
      "11 44 hello world\n"
     ]
    }
   ],
   "source": [
    "print(minimum,maximum,'hello world')"
   ]
  },
  {
   "cell_type": "markdown",
   "metadata": {
    "id": "6242EEC4834B43868069FEF6A51C03AA",
    "jupyter": {
     "source_hidden": false
    },
    "mdEditEnable": false,
    "slideshow": {
     "slide_type": "slide"
    },
    "tags": []
   },
   "source": [
    "如果想要获取一个list中的某个值第一次出现的位置，可以使用**`index()`** 函数"
   ]
  },
  {
   "cell_type": "code",
   "execution_count": 121,
   "metadata": {
    "id": "1DF75CB227594CC3AFF75884AD5FCCED",
    "jupyter": {
     "source_hidden": false
    },
    "scrolled": false,
    "slideshow": {
     "slide_type": "slide"
    },
    "tags": []
   },
   "outputs": [
    {
     "data": {
      "text/plain": [
       "1"
      ]
     },
     "execution_count": 121,
     "metadata": {},
     "output_type": "execute_result"
    }
   ],
   "source": [
    "Released_dates = [11,44,22,33,44]\n",
    "Released_dates.index(44)"
   ]
  },
  {
   "cell_type": "markdown",
   "metadata": {
    "id": "E3D353BB39E8419E9480461A8016C673",
    "jupyter": {
     "source_hidden": false
    },
    "mdEditEnable": false,
    "slideshow": {
     "slide_type": "slide"
    },
    "tags": []
   },
   "source": [
    "如果想要获取一个list中的某个值出现的次数，可以使用**`count()`** 函数"
   ]
  },
  {
   "cell_type": "code",
   "execution_count": 36,
   "metadata": {
    "id": "6F445DFDA07F4FAF9BB8F422DA69B24B",
    "jupyter": {
     "source_hidden": false
    },
    "scrolled": false,
    "slideshow": {
     "slide_type": "slide"
    },
    "tags": []
   },
   "outputs": [
    {
     "data": {
      "text/plain": [
       "2"
      ]
     },
     "execution_count": 36,
     "metadata": {},
     "output_type": "execute_result"
    }
   ],
   "source": [
    "Released_dates.count(44)"
   ]
  },
  {
   "cell_type": "markdown",
   "metadata": {
    "id": "EA1000D875E8421E8FD7C45AB7F4F6C8",
    "jupyter": {
     "source_hidden": false
    },
    "mdEditEnable": false,
    "slideshow": {
     "slide_type": "slide"
    },
    "tags": []
   },
   "source": [
    "###  列表元素的删除"
   ]
  },
  {
   "cell_type": "markdown",
   "metadata": {
    "id": "A35A4B88A546450C97F31A2CA8154E24",
    "jupyter": {
     "source_hidden": false
    },
    "mdEditEnable": false,
    "slideshow": {
     "slide_type": "slide"
    },
    "tags": []
   },
   "source": [
    "如果想要删除列表中的元素，可以使用**`pop()`** 、 **`remove()`** 、 **`clear()`** 等函数"
   ]
  },
  {
   "cell_type": "markdown",
   "metadata": {
    "id": "9F2A08B3633E454DB2A01E98B8070837",
    "jupyter": {
     "source_hidden": false
    },
    "mdEditEnable": false,
    "slideshow": {
     "slide_type": "slide"
    },
    "tags": []
   },
   "source": [
    "其中**`pop()`** 表示删除对应位置上的元素,\n",
    "**`remove()`** 表示删除指定的元素,\n",
    "**`clear()`** 表示完全清空列表,"
   ]
  },
  {
   "cell_type": "code",
   "execution_count": null,
   "metadata": {
    "id": "20C9EA763A3046A9906B0C241E4C51D2",
    "jupyter": {
     "source_hidden": false
    },
    "scrolled": false,
    "slideshow": {
     "slide_type": "slide"
    },
    "tags": []
   },
   "outputs": [],
   "source": [
    "a = [11,44,22,33,44,44]\n",
    "print(a)\n",
    "\n",
    "a.pop(1)\n",
    "print(a)\n",
    "\n",
    "a.remove(44)\n",
    "print(a)\n",
    "\n",
    "a.clear()\n",
    "print(a)"
   ]
  },
  {
   "cell_type": "markdown",
   "metadata": {
    "id": "DDCD6BE0948A4970824C840CB4848DBE",
    "jupyter": {
     "source_hidden": false
    },
    "mdEditEnable": false,
    "slideshow": {
     "slide_type": "slide"
    },
    "tags": []
   },
   "source": [
    "### 获取列表的属性"
   ]
  },
  {
   "cell_type": "markdown",
   "metadata": {
    "id": "90E1B4D3045148B1AB57A4CD8E5602E7",
    "jupyter": {
     "source_hidden": false
    },
    "mdEditEnable": false,
    "slideshow": {
     "slide_type": "slide"
    },
    "tags": []
   },
   "source": [
    "我们可以使用len()函数获悉一个list中含有多少元素"
   ]
  },
  {
   "cell_type": "code",
   "execution_count": 37,
   "metadata": {
    "id": "6A17EFDCF80748178FF90160DCCE3E48",
    "jupyter": {
     "source_hidden": false
    },
    "scrolled": false,
    "slideshow": {
     "slide_type": "slide"
    },
    "tags": []
   },
   "outputs": [
    {
     "data": {
      "text/plain": [
       "5"
      ]
     },
     "execution_count": 37,
     "metadata": {},
     "output_type": "execute_result"
    }
   ],
   "source": [
    "Released_dates = [11,44,22,33,44]\n",
    "len(Released_dates)"
   ]
  },
  {
   "cell_type": "markdown",
   "metadata": {
    "id": "5BF91BBDD3E24CF38049A7CD4D38913F",
    "jupyter": {
     "source_hidden": false
    },
    "mdEditEnable": false,
    "slideshow": {
     "slide_type": "slide"
    },
    "tags": []
   },
   "source": [
    "计算列表平均值"
   ]
  },
  {
   "cell_type": "code",
   "execution_count": 38,
   "metadata": {
    "id": "1EEE08733B2349D585B785304C0B506A",
    "jupyter": {
     "source_hidden": false
    },
    "scrolled": false,
    "slideshow": {
     "slide_type": "slide"
    },
    "tags": []
   },
   "outputs": [
    {
     "data": {
      "text/plain": [
       "46.0"
      ]
     },
     "execution_count": 38,
     "metadata": {},
     "output_type": "execute_result"
    }
   ],
   "source": [
    "album_min = [42,42,57,46,43]\n",
    "# sum results in the sum of all elements in the vector\n",
    "avg_time_min = sum(album_min)/len(album_min)\n",
    "avg_time_min"
   ]
  },
  {
   "cell_type": "markdown",
   "metadata": {},
   "source": [
    "重新给列表内特定位置的元素赋值"
   ]
  },
  {
   "cell_type": "code",
   "execution_count": 39,
   "metadata": {
    "id": "31DDCCEF9C0C4EC297873336B855BD5E",
    "jupyter": {},
    "scrolled": false,
    "slideshow": {
     "slide_type": "slide"
    },
    "tags": []
   },
   "outputs": [
    {
     "name": "stdout",
     "output_type": "stream",
     "text": [
      "[1, 4, 3]\n"
     ]
    }
   ],
   "source": [
    "a = [1,2,3]\n",
    "a[1] = 4\n",
    "print(a)"
   ]
  },
  {
   "cell_type": "markdown",
   "metadata": {
    "id": "E6D3971AF6C54FBCA6A6BCA716A87A6A",
    "jupyter": {
     "source_hidden": false
    },
    "mdEditEnable": false,
    "slideshow": {
     "slide_type": "slide"
    },
    "tags": []
   },
   "source": [
    "## Tuple（元组）\n",
    "\n",
    "**Tuple**与**List**很类似，区别在于元组中的元素**不能被修改**，并且使用的是圆括号而不是方括号。元组也是用索引机制来访问的。音乐风格就很适合存储在元组中，因为它们不会经常变动。"
   ]
  },
  {
   "cell_type": "code",
   "execution_count": 40,
   "metadata": {
    "id": "B5CF92753D514202BA63066D503A697B",
    "jupyter": {
     "source_hidden": false
    },
    "scrolled": false,
    "slideshow": {
     "slide_type": "slide"
    },
    "tags": []
   },
   "outputs": [
    {
     "data": {
      "text/plain": [
       "('pop',\n",
       " 'rock',\n",
       " 'soul',\n",
       " 'hard rock',\n",
       " 'soft rock',\n",
       " 'R&B',\n",
       " 'progressive rock',\n",
       " 'disco')"
      ]
     },
     "execution_count": 40,
     "metadata": {},
     "output_type": "execute_result"
    }
   ],
   "source": [
    "genres_tuple = (\"pop\", \"rock\", \"soul\", \"hard rock\",\"soft rock\",\"R&B\", \"progressive rock\", \"disco\")  \n",
    "                # 这里这里用的是圆括号，注意和list 的方括号区分\n",
    "genres_tuple"
   ]
  },
  {
   "cell_type": "code",
   "execution_count": 46,
   "metadata": {
    "id": "86DA9C812B2742458E94F6BA224D88E1",
    "jupyter": {},
    "scrolled": false,
    "slideshow": {
     "slide_type": "slide"
    },
    "tags": []
   },
   "outputs": [
    {
     "name": "stdout",
     "output_type": "stream",
     "text": [
      "xxxxxxxxxxxxxxxxxxxxxxxxxxxxxxxxxtttttttttttttttttttt\n"
     ]
    },
    {
     "data": {
      "text/plain": [
       "str"
      ]
     },
     "execution_count": 46,
     "metadata": {},
     "output_type": "execute_result"
    }
   ],
   "source": [
    "myvar = ('xxxxxxxxxxxxxxxxxxxxxxxxxxxxxxxxx' )+ \\\n",
    "        ('tttttttttttttttttttt')\n",
    "print(myvar)  \n",
    "type(myvar)"
   ]
  },
  {
   "cell_type": "markdown",
   "metadata": {
    "id": "55885142077F466E86BA25662D02A959",
    "jupyter": {},
    "mdEditEnable": false,
    "slideshow": {
     "slide_type": "slide"
    },
    "tags": []
   },
   "source": [
    "**Tip：Python中的多行程序**\n",
    "\n",
    "- Python对于程序代码的格式要求很严谨，通过空格与换行来进行代码的解释和编译。\n",
    "- 不能随意地把一行代码写成多行，或者将多行代码写成一行。\n",
    "- 一定要多行写时可以用 `\\` 来换行。 \n",
    "- 对于结尾是 `,` 的情况，也可以省略 `\\` 。 "
   ]
  },
  {
   "cell_type": "markdown",
   "metadata": {
    "id": "FE65FBF80B694376937393F19253C2C3",
    "jupyter": {
     "source_hidden": false
    },
    "mdEditEnable": false,
    "slideshow": {
     "slide_type": "slide"
    },
    "tags": []
   },
   "source": [
    "同样可以通过len函数得到tuple中的元素个数"
   ]
  },
  {
   "cell_type": "code",
   "execution_count": 47,
   "metadata": {
    "id": "04B447E1A1AF48318257AC302495EA75",
    "jupyter": {
     "source_hidden": false
    },
    "scrolled": false,
    "slideshow": {
     "slide_type": "slide"
    },
    "tags": []
   },
   "outputs": [
    {
     "data": {
      "text/plain": [
       "8"
      ]
     },
     "execution_count": 47,
     "metadata": {},
     "output_type": "execute_result"
    }
   ],
   "source": [
    "genres_tuple = (\"pop\", \"rock\", \"soul\", \"hard rock\",\"soft rock\",\"R&B\", \"progressive rock\", \"disco\") \n",
    "len(genres_tuple) "
   ]
  },
  {
   "cell_type": "markdown",
   "metadata": {
    "id": "B8E82095B32749F0833F8D2B3F5F62F5",
    "jupyter": {
     "source_hidden": false
    },
    "mdEditEnable": false,
    "slideshow": {
     "slide_type": "slide"
    },
    "tags": []
   },
   "source": [
    "使用索引得到具体的某一个元素"
   ]
  },
  {
   "cell_type": "code",
   "execution_count": 48,
   "metadata": {
    "id": "5351DC3F5760441382DC9F7F4C859EB3",
    "jupyter": {
     "source_hidden": false
    },
    "scrolled": false,
    "slideshow": {
     "slide_type": "slide"
    },
    "tags": []
   },
   "outputs": [
    {
     "data": {
      "text/plain": [
       "'hard rock'"
      ]
     },
     "execution_count": 48,
     "metadata": {},
     "output_type": "execute_result"
    }
   ],
   "source": [
    "genres_tuple[3]"
   ]
  },
  {
   "cell_type": "markdown",
   "metadata": {
    "id": "660B6AB98CD64368B7DF8A38D250FC96",
    "jupyter": {
     "source_hidden": false
    },
    "mdEditEnable": false,
    "slideshow": {
     "slide_type": "slide"
    },
    "tags": []
   },
   "source": [
    "也可以使用起止索引得到多个元素"
   ]
  },
  {
   "cell_type": "code",
   "execution_count": 49,
   "metadata": {
    "id": "A6ED2247E5824F4D9B4DF63E851BAE89",
    "jupyter": {
     "source_hidden": false
    },
    "scrolled": false,
    "slideshow": {
     "slide_type": "slide"
    },
    "tags": []
   },
   "outputs": [
    {
     "data": {
      "text/plain": [
       "('hard rock', 'soft rock', 'R&B')"
      ]
     },
     "execution_count": 49,
     "metadata": {},
     "output_type": "execute_result"
    }
   ],
   "source": [
    "genres_tuple[3:6] "
   ]
  },
  {
   "cell_type": "markdown",
   "metadata": {
    "id": "D898A58525BE42B2B56CD2F003A08215",
    "jupyter": {
     "source_hidden": false
    },
    "mdEditEnable": false,
    "slideshow": {
     "slide_type": "slide"
    },
    "tags": []
   },
   "source": [
    "使用min和max得到元组中的最小值和最大值"
   ]
  },
  {
   "cell_type": "code",
   "execution_count": 50,
   "metadata": {
    "id": "F3F47AE8C8F24A239B63AF567FA5BD6E",
    "jupyter": {
     "source_hidden": false
    },
    "scrolled": false,
    "slideshow": {
     "slide_type": "slide"
    },
    "tags": []
   },
   "outputs": [
    {
     "data": {
      "text/plain": [
       "('R&B', 'soul')"
      ]
     },
     "execution_count": 50,
     "metadata": {},
     "output_type": "execute_result"
    }
   ],
   "source": [
    "min(genres_tuple), max(genres_tuple) "
   ]
  },
  {
   "cell_type": "markdown",
   "metadata": {
    "id": "7B7E9C3E74BE49B98168176017C27BA3",
    "jupyter": {
     "source_hidden": false
    },
    "mdEditEnable": false,
    "slideshow": {
     "slide_type": "slide"
    },
    "tags": []
   },
   "source": [
    "通过元素的值得到元素的索引"
   ]
  },
  {
   "cell_type": "code",
   "execution_count": 53,
   "metadata": {
    "id": "040624C6F5264B9D90348B55BB4241CE",
    "jupyter": {
     "source_hidden": false
    },
    "scrolled": false,
    "slideshow": {
     "slide_type": "slide"
    },
    "tags": []
   },
   "outputs": [
    {
     "data": {
      "text/plain": [
       "5"
      ]
     },
     "execution_count": 53,
     "metadata": {},
     "output_type": "execute_result"
    }
   ],
   "source": [
    "genres_tuple.index(\"R&B\")   "
   ]
  },
  {
   "cell_type": "markdown",
   "metadata": {
    "id": "39B4FAA39B4C4ADF85E981C96B1C29E1",
    "jupyter": {
     "source_hidden": false
    },
    "mdEditEnable": false,
    "slideshow": {
     "slide_type": "slide"
    },
    "tags": []
   },
   "source": [
    "**但是无法对元组排序，它们是不可修改的。**"
   ]
  },
  {
   "cell_type": "markdown",
   "metadata": {
    "id": "4FEAEEFE00D346EB8C446FC6779B44A1",
    "jupyter": {
     "source_hidden": false
    },
    "mdEditEnable": false,
    "slideshow": {
     "slide_type": "slide"
    },
    "tags": []
   },
   "source": [
    "你可以把元组转换成列表，如下"
   ]
  },
  {
   "cell_type": "code",
   "execution_count": null,
   "metadata": {},
   "outputs": [],
   "source": [
    "genres_list = list(genres_tuple) \n",
    "print(genres_list)\n",
    "\n",
    "genres_list.sort() \n",
    "print(genres_list)"
   ]
  },
  {
   "cell_type": "markdown",
   "metadata": {
    "id": "D24AC1C9C8864B90BA38499E43B156BD",
    "jupyter": {
     "source_hidden": false
    },
    "mdEditEnable": false,
    "slideshow": {
     "slide_type": "slide"
    },
    "tags": []
   },
   "source": [
    "因为不能修改元组，所以任何添加、删除、修改的操作都只能先转成列表再执行。"
   ]
  },
  {
   "cell_type": "markdown",
   "metadata": {
    "id": "BC9F404DA80A40E99CA0CDFA70DF96F1",
    "jupyter": {
     "source_hidden": false
    },
    "mdEditEnable": false,
    "slideshow": {
     "slide_type": "slide"
    },
    "tags": []
   },
   "source": [
    "## 字典(Dictionary)\n",
    "\n",
    "### 字典的生成\n",
    "\n",
    "字典是Python内置的最重要的数据结构，使用大括号{ }。字典中元素的格式为\n",
    "\n",
    "**`关键字:值`**\n",
    "\n",
    "\n",
    "\n",
    "在字典中，任何一个元素都有一个关键字key和值value。**元素在字典中没有序号，即没有任何顺序。**同时，每个key必须是唯一的。请看下面这个例子。"
   ]
  },
  {
   "cell_type": "code",
   "execution_count": 64,
   "metadata": {
    "id": "6E36229EBD5E43A1A6C917385521596E",
    "jupyter": {
     "source_hidden": false
    },
    "scrolled": false,
    "slideshow": {
     "slide_type": "slide"
    },
    "tags": []
   },
   "outputs": [
    {
     "data": {
      "text/plain": [
       "{'Avengers: Endgame': 2797800564.999,\n",
       " 'Avatar': 2790439092,\n",
       " 'Titanic': 2195170133,\n",
       " 'Star Wars: Episode VII': 2068455512,\n",
       " 'Avengers: Infinity War': 2048359754}"
      ]
     },
     "execution_count": 64,
     "metadata": {},
     "output_type": "execute_result"
    }
   ],
   "source": [
    "movie = {'Avengers: Endgame':2797800564.999,\n",
    "         'Avatar':2790439092, \n",
    "         'Titanic':2195170133, \n",
    "         'Star Wars: Episode VII':2068455512,\n",
    "         'Avengers: Infinity War':2048359754  \n",
    "}\n",
    "movie"
   ]
  },
  {
   "cell_type": "markdown",
   "metadata": {
    "id": "762F8D6C64454C9087CFFFF64FD805B1",
    "jupyter": {
     "source_hidden": false
    },
    "mdEditEnable": false,
    "slideshow": {
     "slide_type": "slide"
    },
    "tags": []
   },
   "source": [
    "引用字典中的元素："
   ]
  },
  {
   "cell_type": "code",
   "execution_count": 65,
   "metadata": {
    "id": "490519EBE3A84226852F28687607B558",
    "jupyter": {
     "source_hidden": false
    },
    "scrolled": false,
    "slideshow": {
     "slide_type": "slide"
    },
    "tags": []
   },
   "outputs": [
    {
     "data": {
      "text/plain": [
       "2797800564.999"
      ]
     },
     "execution_count": 65,
     "metadata": {},
     "output_type": "execute_result"
    }
   ],
   "source": [
    "movie['Avengers: Endgame']"
   ]
  },
  {
   "cell_type": "markdown",
   "metadata": {
    "id": "905B453A7D8A4A8D8F92B2776E3FA05F",
    "jupyter": {
     "source_hidden": false
    },
    "mdEditEnable": false,
    "slideshow": {
     "slide_type": "slide"
    },
    "tags": []
   },
   "source": [
    "在上述这个字典中，电影名是字符类型的对象，是关键字，而票房是数值类型的对象，是对应的值。\n",
    "\n",
    "我们观察一下这个字典，其意义非常清楚。其中的元素具有不同的类型(整型和浮点型)，但是这完全没有问题。"
   ]
  },
  {
   "cell_type": "markdown",
   "metadata": {
    "id": "4DEF9CB9049842A28B810B0C579DAA28",
    "jupyter": {},
    "mdEditEnable": false,
    "slideshow": {
     "slide_type": "slide"
    },
    "tags": []
   },
   "source": [
    "### 字典的访问"
   ]
  },
  {
   "cell_type": "markdown",
   "metadata": {
    "id": "ABB82A19A3FD46C58EFBB1E2F689DAF1",
    "jupyter": {
     "source_hidden": false
    },
    "mdEditEnable": false,
    "slideshow": {
     "slide_type": "slide"
    },
    "tags": []
   },
   "source": [
    "你可以访问字典中的所有元素，例如，下面这样访问关键字和值。"
   ]
  },
  {
   "cell_type": "code",
   "execution_count": 84,
   "metadata": {
    "id": "F5A4E47513B5436DBFC64AC16F860B0A",
    "jupyter": {
     "source_hidden": false
    },
    "scrolled": false,
    "slideshow": {
     "slide_type": "slide"
    },
    "tags": []
   },
   "outputs": [
    {
     "name": "stdout",
     "output_type": "stream",
     "text": [
      "dict_keys(['Avatar', 'Titanic'])\n",
      "dict_values([9.5, 9.4])\n"
     ]
    }
   ],
   "source": [
    "movie = {\"Avatar\" : 9.5 , \"Titanic\" : 9.4}\n",
    "print(movie.keys())\n",
    "print(movie.values())"
   ]
  },
  {
   "cell_type": "markdown",
   "metadata": {
    "id": "6E6E576350924F6397871D69E32B3B4A",
    "jupyter": {
     "source_hidden": false
    },
    "mdEditEnable": false,
    "slideshow": {
     "slide_type": "slide"
    },
    "tags": []
   },
   "source": [
    "### 在字典中添加、修改、删除元素"
   ]
  },
  {
   "cell_type": "markdown",
   "metadata": {
    "id": "6DF85AB8A6944A878B5E3F5AC4F4B8EF",
    "jupyter": {
     "source_hidden": false
    },
    "mdEditEnable": false,
    "slideshow": {
     "slide_type": "slide"
    },
    "tags": []
   },
   "source": [
    "在字典中添加元素十分简单，直接通过赋值即可，下面的代码就在字典中添加了一个关键字’。"
   ]
  },
  {
   "cell_type": "code",
   "execution_count": 85,
   "metadata": {
    "id": "DD4249EB18A940219023F871FC174030",
    "jupyter": {
     "source_hidden": false
    },
    "scrolled": false,
    "slideshow": {
     "slide_type": "slide"
    },
    "tags": []
   },
   "outputs": [
    {
     "data": {
      "text/plain": [
       "{'Avatar': 9.5, 'Titanic': 9.4, 'The Goldfather': 9.6}"
      ]
     },
     "execution_count": 85,
     "metadata": {},
     "output_type": "execute_result"
    }
   ],
   "source": [
    "movie['The Goldfather'] =9.6 \n",
    "movie"
   ]
  },
  {
   "cell_type": "markdown",
   "metadata": {
    "id": "4FA49FC5F1E9483283934215A49664C0",
    "jupyter": {
     "source_hidden": false
    },
    "mdEditEnable": false,
    "slideshow": {
     "slide_type": "slide"
    },
    "tags": []
   },
   "source": [
    "修改元素的方式与添加元素类似，下面的代码会将关键字为‘Titanic’的元素的值修改为9"
   ]
  },
  {
   "cell_type": "code",
   "execution_count": 86,
   "metadata": {
    "id": "F26959E7A02A4412893B062CAC38F9F9",
    "jupyter": {
     "source_hidden": false
    },
    "scrolled": false,
    "slideshow": {
     "slide_type": "slide"
    },
    "tags": []
   },
   "outputs": [
    {
     "data": {
      "text/plain": [
       "{'Avatar': 9.5, 'Titanic': 9, 'The Goldfather': 9.6}"
      ]
     },
     "execution_count": 86,
     "metadata": {},
     "output_type": "execute_result"
    }
   ],
   "source": [
    "movie['Titanic'] = 9\n",
    "movie"
   ]
  },
  {
   "cell_type": "markdown",
   "metadata": {
    "id": "A9C47D9C19D644538D335D74378AE5C1",
    "jupyter": {
     "source_hidden": false
    },
    "mdEditEnable": false,
    "slideshow": {
     "slide_type": "slide"
    },
    "tags": []
   },
   "source": [
    "要想删除一个元素，你需要使用del函数并指定要被删除的关键字。例如删除关键字为‘The Goldfather’的元素。"
   ]
  },
  {
   "cell_type": "code",
   "execution_count": 87,
   "metadata": {
    "id": "E264E278DECC4980B7CA5896ECC0AF6E",
    "jupyter": {
     "source_hidden": false
    },
    "scrolled": false,
    "slideshow": {
     "slide_type": "slide"
    },
    "tags": []
   },
   "outputs": [
    {
     "data": {
      "text/plain": [
       "{'Avatar': 9.5, 'Titanic': 9}"
      ]
     },
     "execution_count": 87,
     "metadata": {},
     "output_type": "execute_result"
    }
   ],
   "source": [
    "del movie['The Goldfather']\n",
    "movie"
   ]
  },
  {
   "cell_type": "markdown",
   "metadata": {
    "id": "E465825478CA420D8CE40641F1EA4EAD",
    "jupyter": {
     "source_hidden": false
    },
    "mdEditEnable": false,
    "slideshow": {
     "slide_type": "slide"
    },
    "tags": []
   },
   "source": [
    "对于在Python中组织不同类型的数据来说，列表和字典都是非常好用的数据结构。"
   ]
  },
  {
   "cell_type": "markdown",
   "metadata": {
    "id": "8AC847611EC14FF380261DB3978537DE",
    "jupyter": {
     "source_hidden": false
    },
    "mdEditEnable": false,
    "slideshow": {
     "slide_type": "slide"
    },
    "tags": []
   },
   "source": [
    "## 集合(Set）\n",
    "\n",
    "集合（set）是由一个或数个形态各异的大小整体组成的，构成集合的事物或对象称作元素或是成员。\n",
    "基本功能是进行成员关系测试和删除重复元素。"
   ]
  },
  {
   "cell_type": "markdown",
   "metadata": {
    "id": "F328ECC3658C4E079FD940BA811A844F",
    "jupyter": {
     "source_hidden": false
    },
    "mdEditEnable": false,
    "slideshow": {
     "slide_type": "slide"
    },
    "tags": []
   },
   "source": [
    "可以使用大括号 **`{ }`** 或者 **`set()`** 函数创建集合，注意：创建一个空集合必须用 **`set()`** 而不是 **`{ }`**，因为 **`{ }`** 是用来创建一个空字典。"
   ]
  },
  {
   "cell_type": "markdown",
   "metadata": {},
   "source": [
    "**创建格式**\n",
    "\n",
    "name = {value01,value02,...}\n",
    "\n",
    "或者\n",
    "\n",
    "set(value)"
   ]
  },
  {
   "cell_type": "code",
   "execution_count": 96,
   "metadata": {
    "id": "1EC4B5D239F6423C866ED03A012C5533",
    "jupyter": {
     "source_hidden": false
    },
    "scrolled": false,
    "slideshow": {
     "slide_type": "slide"
    },
    "tags": []
   },
   "outputs": [
    {
     "data": {
      "text/plain": [
       "[11, 22, 44, 55, 33, 55, 22, 11]"
      ]
     },
     "execution_count": 96,
     "metadata": {},
     "output_type": "execute_result"
    }
   ],
   "source": [
    "test_list = [11,22,44,55,33,55,22,11]\n",
    "test_list"
   ]
  },
  {
   "cell_type": "code",
   "execution_count": 97,
   "metadata": {
    "id": "43D848D8B0214A00892E93280D6BFBE5",
    "jupyter": {
     "source_hidden": false
    },
    "scrolled": false,
    "slideshow": {
     "slide_type": "slide"
    },
    "tags": []
   },
   "outputs": [
    {
     "data": {
      "text/plain": [
       "{11, 22, 33, 44, 55}"
      ]
     },
     "execution_count": 97,
     "metadata": {},
     "output_type": "execute_result"
    }
   ],
   "source": [
    "test_set1 = {11,22,44,55,33,55,22,11}\n",
    "test_set1"
   ]
  },
  {
   "cell_type": "code",
   "execution_count": 93,
   "metadata": {
    "id": "8689DD4BC58D4FC48D5EAC8341C4FE63",
    "jupyter": {
     "source_hidden": false
    },
    "scrolled": false,
    "slideshow": {
     "slide_type": "slide"
    },
    "tags": []
   },
   "outputs": [
    {
     "data": {
      "text/plain": [
       "{11, 22, 33, 44, 55}"
      ]
     },
     "execution_count": 93,
     "metadata": {},
     "output_type": "execute_result"
    }
   ],
   "source": [
    "test_set2 = set(test_list)   #将列表转换为集合\n",
    "test_set2"
   ]
  },
  {
   "cell_type": "markdown",
   "metadata": {
    "id": "3AF2140B2B5648AA8019F57F29BF92BB",
    "jupyter": {
     "source_hidden": false
    },
    "mdEditEnable": false,
    "slideshow": {
     "slide_type": "slide"
    },
    "tags": []
   },
   "source": [
    "**set可以进行集合运算**"
   ]
  },
  {
   "cell_type": "code",
   "execution_count": null,
   "metadata": {
    "id": "F49AD469929249009613C2D5AC9F6F9D",
    "jupyter": {
     "source_hidden": false
    },
    "scrolled": true,
    "slideshow": {
     "slide_type": "slide"
    },
    "tags": []
   },
   "outputs": [],
   "source": [
    "a = set('Yao Ming')\n",
    "b = set('Liu Xiang')\n",
    "\n",
    "print(a)\n",
    "print(b)\n",
    "print(a - b)     # a 和 b 的差集（a中除掉b的元素后剩下的元素）\n",
    "print(a | b)     # a 和 b 的并集\n",
    "print(a & b)     # a 和 b 的交集\n",
    "print(a ^ b)     # a 和 b 中不同时存在的元素"
   ]
  },
  {
   "cell_type": "markdown",
   "metadata": {
    "id": "C4ED6F013AD64BBE8B207E6708C3E472",
    "jupyter": {},
    "mdEditEnable": false,
    "scrolled": false,
    "slideshow": {
     "slide_type": "slide"
    },
    "tags": []
   },
   "source": [
    "## 逻辑运算\n",
    "\n",
    "布尔值可以用于判断一个条件是成立(True)还是不成立(False)。"
   ]
  },
  {
   "cell_type": "markdown",
   "metadata": {
    "id": "30F39D9052FD4E078C226EB668314921",
    "jupyter": {},
    "mdEditEnable": false,
    "scrolled": false,
    "slideshow": {
     "slide_type": "slide"
    },
    "tags": []
   },
   "source": [
    "***Tip：Python中的逻辑运算 ***\n",
    "  \n",
    "*  `判等: 1 == 2`\n",
    "* `判不等: True != False `\n",
    "* `大于: 100 > 1 `\n",
    "* `大于或者等于: 100 >= 1` \n",
    "* `小于: 1 < 2 `\n",
    "*  `小于或者等于: 1 <= 2 `"
   ]
  },
  {
   "cell_type": "code",
   "execution_count": 98,
   "metadata": {
    "id": "F01E97DCB51F42E48B60E8DD03671BD3",
    "jupyter": {},
    "scrolled": false,
    "slideshow": {
     "slide_type": "slide"
    },
    "tags": []
   },
   "outputs": [
    {
     "data": {
      "text/plain": [
       "False"
      ]
     },
     "execution_count": 98,
     "metadata": {},
     "output_type": "execute_result"
    }
   ],
   "source": [
    "album_year = 2020\n",
    "album_year == 1990   #判断是否等于1990"
   ]
  },
  {
   "cell_type": "code",
   "execution_count": 99,
   "metadata": {
    "id": "B2142AA3C4B44DBDB5044E7162AD68FD",
    "jupyter": {},
    "slideshow": {
     "slide_type": "slide"
    },
    "tags": []
   },
   "outputs": [
    {
     "data": {
      "text/plain": [
       "False"
      ]
     },
     "execution_count": 99,
     "metadata": {},
     "output_type": "execute_result"
    }
   ],
   "source": [
    "album_year < 2000   #判断是否小于2000"
   ]
  },
  {
   "cell_type": "markdown",
   "metadata": {
    "id": "C0C31A3FB3424E318006328CD7D98DFA",
    "jupyter": {},
    "mdEditEnable": false,
    "slideshow": {
     "slide_type": "slide"
    },
    "tags": []
   },
   "source": [
    "判断相等性需要借助操作符“==”（注意是两个等号，一个等号是赋值符号，两个等号是判断相等）。如果你想检查是否不等于某个数，使用判不等操作“!=”"
   ]
  },
  {
   "cell_type": "code",
   "execution_count": 100,
   "metadata": {
    "id": "D7C5A337E19944018A8809CF5A7A054D",
    "jupyter": {},
    "scrolled": true,
    "slideshow": {
     "slide_type": "slide"
    },
    "tags": []
   },
   "outputs": [
    {
     "data": {
      "text/plain": [
       "True"
      ]
     },
     "execution_count": 100,
     "metadata": {},
     "output_type": "execute_result"
    }
   ],
   "source": [
    "album_year != 1990"
   ]
  },
  {
   "cell_type": "markdown",
   "metadata": {
    "id": "D9948ADD7F5A41F6845E4916B0152C05",
    "jupyter": {},
    "mdEditEnable": false,
    "slideshow": {
     "slide_type": "slide"
    },
    "tags": []
   },
   "source": [
    "我们还可以使用`and` 和 `or` 来进行更加复杂的判断。"
   ]
  },
  {
   "cell_type": "markdown",
   "metadata": {},
   "source": [
    "|运算符|\t逻辑表达式|\t描述|\n",
    "|:----: |:----:|:----:|\n",
    "| and\t| x and y | 布尔\"与\" ，x与y都为真，结果才为真|\n",
    "| or | x or y |\t布尔\"或\" ，x与y至少有一个为真，结果就为真|\n",
    "| not| not x |\t布尔\"非\" ，x取反|"
   ]
  },
  {
   "cell_type": "code",
   "execution_count": 101,
   "metadata": {
    "id": "5300268AC5A349FDB4F3DFA7F7FBD5D8",
    "jupyter": {},
    "scrolled": false,
    "slideshow": {
     "slide_type": "slide"
    },
    "tags": []
   },
   "outputs": [
    {
     "data": {
      "text/plain": [
       "True"
      ]
     },
     "execution_count": 101,
     "metadata": {},
     "output_type": "execute_result"
    }
   ],
   "source": [
    "a = 90\n",
    "(a > 80) and (a < 100) and (a < 300) # and 为真，必须两个条件都为真"
   ]
  },
  {
   "cell_type": "code",
   "execution_count": 103,
   "metadata": {
    "id": "25CC3FE58C744E87ACDB9520854E4FDB",
    "jupyter": {},
    "scrolled": false,
    "slideshow": {
     "slide_type": "slide"
    },
    "tags": []
   },
   "outputs": [
    {
     "data": {
      "text/plain": [
       "True"
      ]
     },
     "execution_count": 103,
     "metadata": {},
     "output_type": "execute_result"
    }
   ],
   "source": [
    "a = 90\n",
    "a > 80 or a < 85 # or 为真，只需一个条件为真即可"
   ]
  },
  {
   "cell_type": "markdown",
   "metadata": {
    "id": "759410495A95475E9A6AA833DF4CCF82",
    "jupyter": {},
    "mdEditEnable": false,
    "slideshow": {
     "slide_type": "slide"
    },
    "tags": []
   },
   "source": [
    "# 数据类型的转换"
   ]
  },
  {
   "cell_type": "markdown",
   "metadata": {
    "id": "3A8D918A1ACF485C881FA681F4380681",
    "jupyter": {},
    "mdEditEnable": false,
    "slideshow": {
     "slide_type": "slide"
    },
    "tags": []
   },
   "source": [
    "从数值到字符串"
   ]
  },
  {
   "cell_type": "code",
   "execution_count": 105,
   "metadata": {
    "id": "426DFDD0466E4AD1B8E9F5E280F8D938",
    "jupyter": {},
    "scrolled": false,
    "slideshow": {
     "slide_type": "slide"
    },
    "tags": []
   },
   "outputs": [
    {
     "name": "stdout",
     "output_type": "stream",
     "text": [
      "<class 'int'>\n",
      "<class 'str'>\n",
      "123\n"
     ]
    }
   ],
   "source": [
    "x = 123\n",
    "y = str(x) \n",
    "print(type(x))\n",
    "print(type(y))\n",
    "print(y)"
   ]
  },
  {
   "cell_type": "markdown",
   "metadata": {
    "id": "57642724D6AB4834ACFE125806F83A33",
    "jupyter": {},
    "mdEditEnable": false,
    "slideshow": {
     "slide_type": "slide"
    },
    "tags": []
   },
   "source": [
    "从字符串到数值"
   ]
  },
  {
   "cell_type": "code",
   "execution_count": 106,
   "metadata": {
    "id": "0D4D611F47AE4149A9623977173C9818",
    "jupyter": {},
    "scrolled": false,
    "slideshow": {
     "slide_type": "slide"
    },
    "tags": []
   },
   "outputs": [
    {
     "data": {
      "text/plain": [
       "int"
      ]
     },
     "execution_count": 106,
     "metadata": {},
     "output_type": "execute_result"
    }
   ],
   "source": [
    "y = '123'\n",
    "x = int(y)  \n",
    "type(x)"
   ]
  },
  {
   "cell_type": "markdown",
   "metadata": {
    "id": "02585747E5C04AF8BA12C7675D9C103B",
    "jupyter": {},
    "mdEditEnable": false,
    "slideshow": {
     "slide_type": "slide"
    },
    "tags": []
   },
   "source": [
    "从列表到元组"
   ]
  },
  {
   "cell_type": "code",
   "execution_count": null,
   "metadata": {
    "id": "9E104DCBED2E4AB288E1C6C74B642C87",
    "jupyter": {},
    "scrolled": false,
    "slideshow": {
     "slide_type": "slide"
    },
    "tags": []
   },
   "outputs": [],
   "source": [
    "a = [1,2,3,4,5]\n",
    "b = tuple(a)\n",
    "type(b)"
   ]
  },
  {
   "cell_type": "markdown",
   "metadata": {
    "id": "2DDAA0D5A80A4FF087B4AA7D3D703121",
    "jupyter": {},
    "mdEditEnable": false,
    "slideshow": {
     "slide_type": "slide"
    },
    "tags": []
   },
   "source": [
    "从元组到列表"
   ]
  },
  {
   "cell_type": "code",
   "execution_count": null,
   "metadata": {
    "id": "D6869EA868714BD28E4DC22F9E7A70FC",
    "jupyter": {},
    "scrolled": false,
    "slideshow": {
     "slide_type": "slide"
    },
    "tags": []
   },
   "outputs": [],
   "source": [
    "b = [1,2,3,4,5]\n",
    "a = list(b)\n",
    "type(a)"
   ]
  },
  {
   "cell_type": "markdown",
   "metadata": {
    "id": "5B98782FB0AC487D8BC8D75D6AB68FED",
    "jupyter": {},
    "mdEditEnable": false,
    "scrolled": false,
    "slideshow": {
     "slide_type": "slide"
    },
    "tags": []
   },
   "source": [
    "更多类型转换细节，参考[这里](https://www.runoob.com/python/python-variable-types.html)。"
   ]
  },
  {
   "cell_type": "markdown",
   "metadata": {
    "id": "8D91DE953A464D8880FD407D1B9941C3",
    "jupyter": {},
    "mdEditEnable": false,
    "slideshow": {
     "slide_type": "slide"
    },
    "tags": []
   },
   "source": [
    "# Python入门（1）练习作业"
   ]
  },
  {
   "cell_type": "markdown",
   "metadata": {
    "id": "3EA375CF51C34C9793F7E59758327A33",
    "jupyter": {},
    "mdEditEnable": false,
    "scrolled": false,
    "slideshow": {
     "slide_type": "slide"
    },
    "tags": []
   },
   "source": [
    "\n",
    "1. 把'Hello World!'赋值给一个字符串变量并且输出。\n",
    "1. 计算\n",
    "$$\n",
    "30 \\times 2^2 + \\sqrt{2}-1\n",
    "$$\n",
    "1. 假设现在有四位同学的成绩分别为100,99,60和78，请你用一个列表将其存储起来，命名为 Score并计算他们的平均成绩。\n",
    "1. 假设现在有三位同学,名字分别为A,B,C，手机号分别为111,222,333,请你用一个字典将其存储起来，命名为Dic。\n",
    "1. 请生成一个list，命名为MyList,其中的元素为`1,2,3,4,5,6,7,8,9,10`，然后使用上述方法，按以下要求进行访问\n",
    "\n",
    "\t1. 从第一个元素访问到第八个元素（注意list的索引是从0开始哦）\n",
    "\t2. 从第一个元素访问到第九个元素，以3为步长\n",
    "\t2. 访问最后三个元素\n",
    "1. 生成一个列表，命名为a，包含元素为3，4，5，6。\n",
    "\t2. 然后把其中的元素4删掉\n",
    "\t2. 在列表后面加上7，8，9\n",
    "\t2. 将以上操作后的结果存为一个新的变量b\n",
    "1. 大家按照下面的格式做好后以文件形式发到邮箱：sxjmmzjy2@163.com  (备注好姓名)"
   ]
  },
  {
   "cell_type": "code",
   "execution_count": 107,
   "metadata": {
    "id": "9BCD7F04234942A281765BE079A2965F",
    "jupyter": {},
    "scrolled": false,
    "slideshow": {
     "slide_type": "slide"
    },
    "tags": []
   },
   "outputs": [
    {
     "name": "stdout",
     "output_type": "stream",
     "text": [
      "hello world\n"
     ]
    }
   ],
   "source": [
    "# 第一题\n",
    "x='hello world'\n",
    "print(x)"
   ]
  },
  {
   "cell_type": "code",
   "execution_count": null,
   "metadata": {},
   "outputs": [],
   "source": [
    "# 第二题"
   ]
  }
 ],
 "metadata": {
  "kernelspec": {
   "display_name": "Python 3",
   "language": "python",
   "name": "python3"
  },
  "language_info": {
   "codemirror_mode": {
    "name": "ipython",
    "version": 3
   },
   "file_extension": ".py",
   "mimetype": "text/x-python",
   "name": "python",
   "nbconvert_exporter": "python",
   "pygments_lexer": "ipython3",
   "version": "3.8.3"
  },
  "toc": {
   "base_numbering": 1,
   "nav_menu": {},
   "number_sections": true,
   "sideBar": true,
   "skip_h1_title": false,
   "title_cell": "Table of Contents",
   "title_sidebar": "Contents",
   "toc_cell": false,
   "toc_position": {},
   "toc_section_display": true,
   "toc_window_display": false
  }
 },
 "nbformat": 4,
 "nbformat_minor": 1
}
